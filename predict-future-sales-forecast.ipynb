{
 "cells": [
  {
   "cell_type": "markdown",
   "id": "af48ab1b",
   "metadata": {
    "execution": {
     "iopub.execute_input": "2022-06-09T03:59:03.302825Z",
     "iopub.status.busy": "2022-06-09T03:59:03.302379Z",
     "iopub.status.idle": "2022-06-09T03:59:04.068872Z",
     "shell.execute_reply": "2022-06-09T03:59:04.067441Z",
     "shell.execute_reply.started": "2022-06-09T03:59:03.302784Z"
    },
    "papermill": {
     "duration": 0.012391,
     "end_time": "2022-06-18T15:13:28.222305",
     "exception": false,
     "start_time": "2022-06-18T15:13:28.209914",
     "status": "completed"
    },
    "tags": []
   },
   "source": [
    "# Import Libraries"
   ]
  },
  {
   "cell_type": "code",
   "execution_count": 1,
   "id": "eba9d225",
   "metadata": {
    "execution": {
     "iopub.execute_input": "2022-06-18T15:13:28.249596Z",
     "iopub.status.busy": "2022-06-18T15:13:28.246393Z",
     "iopub.status.idle": "2022-06-18T15:13:42.586237Z",
     "shell.execute_reply": "2022-06-18T15:13:42.585014Z"
    },
    "papermill": {
     "duration": 14.355238,
     "end_time": "2022-06-18T15:13:42.588892",
     "exception": false,
     "start_time": "2022-06-18T15:13:28.233654",
     "status": "completed"
    },
    "tags": []
   },
   "outputs": [
    {
     "name": "stdout",
     "output_type": "stream",
     "text": [
      "Collecting arch\r\n",
      "  Downloading arch-5.2.0-cp37-cp37m-manylinux_2_17_x86_64.manylinux2014_x86_64.whl (902 kB)\r\n",
      "\u001b[2K     \u001b[90m━━━━━━━━━━━━━━━━━━━━━━━━━━━━━━━━━━━━━━━\u001b[0m \u001b[32m902.9/902.9 kB\u001b[0m \u001b[31m2.9 MB/s\u001b[0m eta \u001b[36m0:00:00\u001b[0m\r\n",
      "\u001b[?25hRequirement already satisfied: statsmodels>=0.11 in /opt/conda/lib/python3.7/site-packages (from arch) (0.13.2)\r\n",
      "Requirement already satisfied: scipy>=1.3 in /opt/conda/lib/python3.7/site-packages (from arch) (1.7.3)\r\n",
      "Requirement already satisfied: pandas>=1.0 in /opt/conda/lib/python3.7/site-packages (from arch) (1.3.5)\r\n",
      "Requirement already satisfied: numpy>=1.17 in /opt/conda/lib/python3.7/site-packages (from arch) (1.21.6)\r\n",
      "Collecting property-cached>=1.6.4\r\n",
      "  Downloading property_cached-1.6.4-py2.py3-none-any.whl (7.8 kB)\r\n",
      "Requirement already satisfied: python-dateutil>=2.7.3 in /opt/conda/lib/python3.7/site-packages (from pandas>=1.0->arch) (2.8.2)\r\n",
      "Requirement already satisfied: pytz>=2017.3 in /opt/conda/lib/python3.7/site-packages (from pandas>=1.0->arch) (2022.1)\r\n",
      "Requirement already satisfied: patsy>=0.5.2 in /opt/conda/lib/python3.7/site-packages (from statsmodels>=0.11->arch) (0.5.2)\r\n",
      "Requirement already satisfied: packaging>=21.3 in /opt/conda/lib/python3.7/site-packages (from statsmodels>=0.11->arch) (21.3)\r\n",
      "Requirement already satisfied: pyparsing!=3.0.5,>=2.0.2 in /opt/conda/lib/python3.7/site-packages (from packaging>=21.3->statsmodels>=0.11->arch) (3.0.9)\r\n",
      "Requirement already satisfied: six in /opt/conda/lib/python3.7/site-packages (from patsy>=0.5.2->statsmodels>=0.11->arch) (1.16.0)\r\n",
      "Installing collected packages: property-cached, arch\r\n",
      "Successfully installed arch-5.2.0 property-cached-1.6.4\r\n",
      "\u001b[33mWARNING: Running pip as the 'root' user can result in broken permissions and conflicting behaviour with the system package manager. It is recommended to use a virtual environment instead: https://pip.pypa.io/warnings/venv\u001b[0m\u001b[33m\r\n",
      "\u001b[0m"
     ]
    }
   ],
   "source": [
    "!pip install arch"
   ]
  },
  {
   "cell_type": "code",
   "execution_count": 2,
   "id": "f97993be",
   "metadata": {
    "execution": {
     "iopub.execute_input": "2022-06-18T15:13:42.615578Z",
     "iopub.status.busy": "2022-06-18T15:13:42.614924Z",
     "iopub.status.idle": "2022-06-18T15:13:46.090628Z",
     "shell.execute_reply": "2022-06-18T15:13:46.089530Z"
    },
    "papermill": {
     "duration": 3.491517,
     "end_time": "2022-06-18T15:13:46.092937",
     "exception": false,
     "start_time": "2022-06-18T15:13:42.601420",
     "status": "completed"
    },
    "tags": []
   },
   "outputs": [],
   "source": [
    "import pandas as pd\n",
    "import seaborn as sns\n",
    "from matplotlib import pyplot as plt \n",
    "import statsmodels.tsa.api as tsa\n",
    "from statsmodels.tsa.arima.model import ARIMA\n",
    "from arch import arch_model\n",
    "import statsmodels.api as sm\n",
    "import numpy as np"
   ]
  },
  {
   "cell_type": "markdown",
   "id": "f6b06dd1",
   "metadata": {
    "papermill": {
     "duration": 0.012143,
     "end_time": "2022-06-18T15:13:46.117600",
     "exception": false,
     "start_time": "2022-06-18T15:13:46.105457",
     "status": "completed"
    },
    "tags": []
   },
   "source": [
    "# Import Data"
   ]
  },
  {
   "cell_type": "code",
   "execution_count": 3,
   "id": "d752baaf",
   "metadata": {
    "execution": {
     "iopub.execute_input": "2022-06-18T15:13:46.144878Z",
     "iopub.status.busy": "2022-06-18T15:13:46.143910Z",
     "iopub.status.idle": "2022-06-18T15:13:48.919991Z",
     "shell.execute_reply": "2022-06-18T15:13:48.919090Z"
    },
    "papermill": {
     "duration": 2.792326,
     "end_time": "2022-06-18T15:13:48.922275",
     "exception": false,
     "start_time": "2022-06-18T15:13:46.129949",
     "status": "completed"
    },
    "tags": []
   },
   "outputs": [
    {
     "data": {
      "text/html": [
       "<div>\n",
       "<style scoped>\n",
       "    .dataframe tbody tr th:only-of-type {\n",
       "        vertical-align: middle;\n",
       "    }\n",
       "\n",
       "    .dataframe tbody tr th {\n",
       "        vertical-align: top;\n",
       "    }\n",
       "\n",
       "    .dataframe thead th {\n",
       "        text-align: right;\n",
       "    }\n",
       "</style>\n",
       "<table border=\"1\" class=\"dataframe\">\n",
       "  <thead>\n",
       "    <tr style=\"text-align: right;\">\n",
       "      <th></th>\n",
       "      <th>date</th>\n",
       "      <th>date_block_num</th>\n",
       "      <th>shop_id</th>\n",
       "      <th>item_id</th>\n",
       "      <th>item_price</th>\n",
       "      <th>item_cnt_day</th>\n",
       "    </tr>\n",
       "  </thead>\n",
       "  <tbody>\n",
       "    <tr>\n",
       "      <th>0</th>\n",
       "      <td>02.01.2013</td>\n",
       "      <td>0</td>\n",
       "      <td>59</td>\n",
       "      <td>22154</td>\n",
       "      <td>999.00</td>\n",
       "      <td>1.0</td>\n",
       "    </tr>\n",
       "    <tr>\n",
       "      <th>1</th>\n",
       "      <td>03.01.2013</td>\n",
       "      <td>0</td>\n",
       "      <td>25</td>\n",
       "      <td>2552</td>\n",
       "      <td>899.00</td>\n",
       "      <td>1.0</td>\n",
       "    </tr>\n",
       "    <tr>\n",
       "      <th>2</th>\n",
       "      <td>05.01.2013</td>\n",
       "      <td>0</td>\n",
       "      <td>25</td>\n",
       "      <td>2552</td>\n",
       "      <td>899.00</td>\n",
       "      <td>-1.0</td>\n",
       "    </tr>\n",
       "    <tr>\n",
       "      <th>3</th>\n",
       "      <td>06.01.2013</td>\n",
       "      <td>0</td>\n",
       "      <td>25</td>\n",
       "      <td>2554</td>\n",
       "      <td>1709.05</td>\n",
       "      <td>1.0</td>\n",
       "    </tr>\n",
       "    <tr>\n",
       "      <th>4</th>\n",
       "      <td>15.01.2013</td>\n",
       "      <td>0</td>\n",
       "      <td>25</td>\n",
       "      <td>2555</td>\n",
       "      <td>1099.00</td>\n",
       "      <td>1.0</td>\n",
       "    </tr>\n",
       "  </tbody>\n",
       "</table>\n",
       "</div>"
      ],
      "text/plain": [
       "         date  date_block_num  shop_id  item_id  item_price  item_cnt_day\n",
       "0  02.01.2013               0       59    22154      999.00           1.0\n",
       "1  03.01.2013               0       25     2552      899.00           1.0\n",
       "2  05.01.2013               0       25     2552      899.00          -1.0\n",
       "3  06.01.2013               0       25     2554     1709.05           1.0\n",
       "4  15.01.2013               0       25     2555     1099.00           1.0"
      ]
     },
     "execution_count": 3,
     "metadata": {},
     "output_type": "execute_result"
    }
   ],
   "source": [
    "# import train data\n",
    "df_train = pd.read_csv(\"../input/competitive-data-science-predict-future-sales/sales_train.csv\")\n",
    "df_train.head()"
   ]
  },
  {
   "cell_type": "code",
   "execution_count": 4,
   "id": "a0e05a68",
   "metadata": {
    "execution": {
     "iopub.execute_input": "2022-06-18T15:13:48.952697Z",
     "iopub.status.busy": "2022-06-18T15:13:48.952226Z",
     "iopub.status.idle": "2022-06-18T15:13:49.086900Z",
     "shell.execute_reply": "2022-06-18T15:13:49.086147Z"
    },
    "papermill": {
     "duration": 0.154124,
     "end_time": "2022-06-18T15:13:49.089400",
     "exception": false,
     "start_time": "2022-06-18T15:13:48.935276",
     "status": "completed"
    },
    "tags": []
   },
   "outputs": [
    {
     "data": {
      "text/html": [
       "<div>\n",
       "<style scoped>\n",
       "    .dataframe tbody tr th:only-of-type {\n",
       "        vertical-align: middle;\n",
       "    }\n",
       "\n",
       "    .dataframe tbody tr th {\n",
       "        vertical-align: top;\n",
       "    }\n",
       "\n",
       "    .dataframe thead th {\n",
       "        text-align: right;\n",
       "    }\n",
       "</style>\n",
       "<table border=\"1\" class=\"dataframe\">\n",
       "  <thead>\n",
       "    <tr style=\"text-align: right;\">\n",
       "      <th></th>\n",
       "      <th>ID</th>\n",
       "      <th>shop_id</th>\n",
       "      <th>item_id</th>\n",
       "    </tr>\n",
       "  </thead>\n",
       "  <tbody>\n",
       "    <tr>\n",
       "      <th>0</th>\n",
       "      <td>0</td>\n",
       "      <td>5</td>\n",
       "      <td>5037</td>\n",
       "    </tr>\n",
       "    <tr>\n",
       "      <th>1</th>\n",
       "      <td>1</td>\n",
       "      <td>5</td>\n",
       "      <td>5320</td>\n",
       "    </tr>\n",
       "    <tr>\n",
       "      <th>2</th>\n",
       "      <td>2</td>\n",
       "      <td>5</td>\n",
       "      <td>5233</td>\n",
       "    </tr>\n",
       "    <tr>\n",
       "      <th>3</th>\n",
       "      <td>3</td>\n",
       "      <td>5</td>\n",
       "      <td>5232</td>\n",
       "    </tr>\n",
       "    <tr>\n",
       "      <th>4</th>\n",
       "      <td>4</td>\n",
       "      <td>5</td>\n",
       "      <td>5268</td>\n",
       "    </tr>\n",
       "  </tbody>\n",
       "</table>\n",
       "</div>"
      ],
      "text/plain": [
       "   ID  shop_id  item_id\n",
       "0   0        5     5037\n",
       "1   1        5     5320\n",
       "2   2        5     5233\n",
       "3   3        5     5232\n",
       "4   4        5     5268"
      ]
     },
     "execution_count": 4,
     "metadata": {},
     "output_type": "execute_result"
    }
   ],
   "source": [
    "# import test data\n",
    "df_test = pd.read_csv(\"../input/competitive-data-science-predict-future-sales/test.csv\")\n",
    "df_test.head()"
   ]
  },
  {
   "cell_type": "markdown",
   "id": "a800f124",
   "metadata": {
    "execution": {
     "iopub.execute_input": "2022-06-09T04:24:42.421716Z",
     "iopub.status.busy": "2022-06-09T04:24:42.421236Z",
     "iopub.status.idle": "2022-06-09T04:24:42.442501Z",
     "shell.execute_reply": "2022-06-09T04:24:42.441354Z",
     "shell.execute_reply.started": "2022-06-09T04:24:42.421678Z"
    },
    "papermill": {
     "duration": 0.013562,
     "end_time": "2022-06-18T15:13:49.116530",
     "exception": false,
     "start_time": "2022-06-18T15:13:49.102968",
     "status": "completed"
    },
    "tags": []
   },
   "source": [
    "# Data Cleaning"
   ]
  },
  {
   "cell_type": "code",
   "execution_count": 5,
   "id": "8b3a0a77",
   "metadata": {
    "execution": {
     "iopub.execute_input": "2022-06-18T15:13:49.145727Z",
     "iopub.status.busy": "2022-06-18T15:13:49.145343Z",
     "iopub.status.idle": "2022-06-18T15:13:49.387955Z",
     "shell.execute_reply": "2022-06-18T15:13:49.386895Z"
    },
    "papermill": {
     "duration": 0.2605,
     "end_time": "2022-06-18T15:13:49.390801",
     "exception": false,
     "start_time": "2022-06-18T15:13:49.130301",
     "status": "completed"
    },
    "tags": []
   },
   "outputs": [
    {
     "name": "stdout",
     "output_type": "stream",
     "text": [
      "Original length 2935849\n",
      "Removed shop length 2413246\n",
      "Removed items length 1224439\n"
     ]
    }
   ],
   "source": [
    "print(\"Original length\", len(df_train))\n",
    "\n",
    "# remove shops not in test\n",
    "df_train = df_train[df_train['shop_id'].isin(df_test['shop_id'])]\n",
    "print(\"Removed shop length\", len(df_train))\n",
    "\n",
    "# remove items not in test\n",
    "df_train = df_train[df_train['item_id'].isin(df_test['item_id'])]\n",
    "print(\"Removed items length\", len(df_train))"
   ]
  },
  {
   "cell_type": "markdown",
   "id": "d1b6ad66",
   "metadata": {
    "papermill": {
     "duration": 0.013337,
     "end_time": "2022-06-18T15:13:49.418864",
     "exception": false,
     "start_time": "2022-06-18T15:13:49.405527",
     "status": "completed"
    },
    "tags": []
   },
   "source": [
    "# Exploratory Data Analysis"
   ]
  },
  {
   "cell_type": "code",
   "execution_count": 6,
   "id": "fdfb9b45",
   "metadata": {
    "execution": {
     "iopub.execute_input": "2022-06-18T15:13:49.448119Z",
     "iopub.status.busy": "2022-06-18T15:13:49.447668Z",
     "iopub.status.idle": "2022-06-18T15:13:49.497309Z",
     "shell.execute_reply": "2022-06-18T15:13:49.496255Z"
    },
    "papermill": {
     "duration": 0.067392,
     "end_time": "2022-06-18T15:13:49.499731",
     "exception": false,
     "start_time": "2022-06-18T15:13:49.432339",
     "status": "completed"
    },
    "tags": []
   },
   "outputs": [
    {
     "data": {
      "text/html": [
       "<div>\n",
       "<style scoped>\n",
       "    .dataframe tbody tr th:only-of-type {\n",
       "        vertical-align: middle;\n",
       "    }\n",
       "\n",
       "    .dataframe tbody tr th {\n",
       "        vertical-align: top;\n",
       "    }\n",
       "\n",
       "    .dataframe thead th {\n",
       "        text-align: right;\n",
       "    }\n",
       "</style>\n",
       "<table border=\"1\" class=\"dataframe\">\n",
       "  <thead>\n",
       "    <tr style=\"text-align: right;\">\n",
       "      <th></th>\n",
       "      <th>item_cnt_mon</th>\n",
       "    </tr>\n",
       "    <tr>\n",
       "      <th>date_block_num</th>\n",
       "      <th></th>\n",
       "    </tr>\n",
       "  </thead>\n",
       "  <tbody>\n",
       "    <tr>\n",
       "      <th>0</th>\n",
       "      <td>20612.0</td>\n",
       "    </tr>\n",
       "    <tr>\n",
       "      <th>1</th>\n",
       "      <td>22163.0</td>\n",
       "    </tr>\n",
       "    <tr>\n",
       "      <th>2</th>\n",
       "      <td>31599.0</td>\n",
       "    </tr>\n",
       "    <tr>\n",
       "      <th>3</th>\n",
       "      <td>20704.0</td>\n",
       "    </tr>\n",
       "    <tr>\n",
       "      <th>4</th>\n",
       "      <td>23322.0</td>\n",
       "    </tr>\n",
       "  </tbody>\n",
       "</table>\n",
       "</div>"
      ],
      "text/plain": [
       "                item_cnt_mon\n",
       "date_block_num              \n",
       "0                    20612.0\n",
       "1                    22163.0\n",
       "2                    31599.0\n",
       "3                    20704.0\n",
       "4                    23322.0"
      ]
     },
     "execution_count": 6,
     "metadata": {},
     "output_type": "execute_result"
    }
   ],
   "source": [
    "mon_sales = df_train.groupby(['date_block_num']) \\\n",
    "    .agg(item_cnt_mon=('item_cnt_day', 'sum'))\n",
    "mon_sales.head()"
   ]
  },
  {
   "cell_type": "code",
   "execution_count": 7,
   "id": "19067872",
   "metadata": {
    "execution": {
     "iopub.execute_input": "2022-06-18T15:13:49.528290Z",
     "iopub.status.busy": "2022-06-18T15:13:49.527805Z",
     "iopub.status.idle": "2022-06-18T15:13:49.541510Z",
     "shell.execute_reply": "2022-06-18T15:13:49.540360Z"
    },
    "papermill": {
     "duration": 0.030346,
     "end_time": "2022-06-18T15:13:49.543692",
     "exception": false,
     "start_time": "2022-06-18T15:13:49.513346",
     "status": "completed"
    },
    "tags": []
   },
   "outputs": [
    {
     "data": {
      "text/html": [
       "<div>\n",
       "<style scoped>\n",
       "    .dataframe tbody tr th:only-of-type {\n",
       "        vertical-align: middle;\n",
       "    }\n",
       "\n",
       "    .dataframe tbody tr th {\n",
       "        vertical-align: top;\n",
       "    }\n",
       "\n",
       "    .dataframe thead th {\n",
       "        text-align: right;\n",
       "    }\n",
       "</style>\n",
       "<table border=\"1\" class=\"dataframe\">\n",
       "  <thead>\n",
       "    <tr style=\"text-align: right;\">\n",
       "      <th></th>\n",
       "      <th>lb_stat</th>\n",
       "      <th>lb_pvalue</th>\n",
       "    </tr>\n",
       "  </thead>\n",
       "  <tbody>\n",
       "    <tr>\n",
       "      <th>1</th>\n",
       "      <td>16.856968</td>\n",
       "      <td>4.030509e-05</td>\n",
       "    </tr>\n",
       "    <tr>\n",
       "      <th>2</th>\n",
       "      <td>25.391796</td>\n",
       "      <td>3.063668e-06</td>\n",
       "    </tr>\n",
       "    <tr>\n",
       "      <th>3</th>\n",
       "      <td>33.177671</td>\n",
       "      <td>2.954385e-07</td>\n",
       "    </tr>\n",
       "    <tr>\n",
       "      <th>4</th>\n",
       "      <td>37.566199</td>\n",
       "      <td>1.376886e-07</td>\n",
       "    </tr>\n",
       "    <tr>\n",
       "      <th>5</th>\n",
       "      <td>39.879339</td>\n",
       "      <td>1.579414e-07</td>\n",
       "    </tr>\n",
       "    <tr>\n",
       "      <th>6</th>\n",
       "      <td>41.247013</td>\n",
       "      <td>2.588660e-07</td>\n",
       "    </tr>\n",
       "  </tbody>\n",
       "</table>\n",
       "</div>"
      ],
      "text/plain": [
       "     lb_stat     lb_pvalue\n",
       "1  16.856968  4.030509e-05\n",
       "2  25.391796  3.063668e-06\n",
       "3  33.177671  2.954385e-07\n",
       "4  37.566199  1.376886e-07\n",
       "5  39.879339  1.579414e-07\n",
       "6  41.247013  2.588660e-07"
      ]
     },
     "execution_count": 7,
     "metadata": {},
     "output_type": "execute_result"
    }
   ],
   "source": [
    "sm.stats.acorr_ljungbox(mon_sales['item_cnt_mon'])"
   ]
  },
  {
   "cell_type": "markdown",
   "id": "6a09f86f",
   "metadata": {
    "papermill": {
     "duration": 0.013042,
     "end_time": "2022-06-18T15:13:49.570233",
     "exception": false,
     "start_time": "2022-06-18T15:13:49.557191",
     "status": "completed"
    },
    "tags": []
   },
   "source": [
    "box test p-value for all 10 lags is less than 0.05, we reject the null hypothesis and conclude that the items aggregated monthly count time series exhibit autocorrelation."
   ]
  },
  {
   "cell_type": "code",
   "execution_count": 8,
   "id": "44aeff3f",
   "metadata": {
    "execution": {
     "iopub.execute_input": "2022-06-18T15:13:49.601776Z",
     "iopub.status.busy": "2022-06-18T15:13:49.600863Z",
     "iopub.status.idle": "2022-06-18T15:13:49.610749Z",
     "shell.execute_reply": "2022-06-18T15:13:49.609910Z"
    },
    "papermill": {
     "duration": 0.028839,
     "end_time": "2022-06-18T15:13:49.612967",
     "exception": false,
     "start_time": "2022-06-18T15:13:49.584128",
     "status": "completed"
    },
    "tags": []
   },
   "outputs": [],
   "source": [
    "sns.set_theme()\n",
    "def plot_ts(x, lags=10, alpha=0.05):\n",
    "    plt.figure(figsize=(10, 7.5))\n",
    "    ts = pd.Series(x)\n",
    "    layout = (2,2)\n",
    "    ts_ax = plt.subplot2grid(layout, (0,0), colspan = 2)\n",
    "    acf_ax = plt.subplot2grid(layout, (1,0))\n",
    "    pacf_ax = plt.subplot2grid(layout, (1,1))\n",
    "    ts_ax.set_title('original time series')\n",
    "    ts.plot(ax= ts_ax)\n",
    "    tsa.graphics.plot_acf(ts, ax=acf_ax, lags=lags, alpha=alpha)\n",
    "    tsa.graphics.plot_pacf(ts, ax=pacf_ax, lags=lags, alpha=alpha)\n",
    "    plt.tight_layout()\n",
    "    plt.show(block=False)"
   ]
  },
  {
   "cell_type": "code",
   "execution_count": 9,
   "id": "2b3cc673",
   "metadata": {
    "execution": {
     "iopub.execute_input": "2022-06-18T15:13:49.643675Z",
     "iopub.status.busy": "2022-06-18T15:13:49.643268Z",
     "iopub.status.idle": "2022-06-18T15:13:49.671468Z",
     "shell.execute_reply": "2022-06-18T15:13:49.670531Z"
    },
    "papermill": {
     "duration": 0.04612,
     "end_time": "2022-06-18T15:13:49.673684",
     "exception": false,
     "start_time": "2022-06-18T15:13:49.627564",
     "status": "completed"
    },
    "tags": []
   },
   "outputs": [
    {
     "data": {
      "text/plain": [
       "0.11353011842199034"
      ]
     },
     "execution_count": 9,
     "metadata": {},
     "output_type": "execute_result"
    }
   ],
   "source": [
    "tsa.adfuller(mon_sales['item_cnt_mon'])[1]"
   ]
  },
  {
   "cell_type": "markdown",
   "id": "be71ef4f",
   "metadata": {
    "papermill": {
     "duration": 0.016844,
     "end_time": "2022-06-18T15:13:49.704973",
     "exception": false,
     "start_time": "2022-06-18T15:13:49.688129",
     "status": "completed"
    },
    "tags": []
   },
   "source": [
    "adf test p value=0.11353 is greater than 0.05, we fail to reject the null hypothesis that the time series contains a unit root thus, it is not stationary."
   ]
  },
  {
   "cell_type": "code",
   "execution_count": 10,
   "id": "9294a5ce",
   "metadata": {
    "execution": {
     "iopub.execute_input": "2022-06-18T15:13:49.737972Z",
     "iopub.status.busy": "2022-06-18T15:13:49.736894Z",
     "iopub.status.idle": "2022-06-18T15:13:49.754857Z",
     "shell.execute_reply": "2022-06-18T15:13:49.753654Z"
    },
    "papermill": {
     "duration": 0.037258,
     "end_time": "2022-06-18T15:13:49.757548",
     "exception": false,
     "start_time": "2022-06-18T15:13:49.720290",
     "status": "completed"
    },
    "tags": []
   },
   "outputs": [
    {
     "data": {
      "text/plain": [
       "4.0326292875376784e-19"
      ]
     },
     "execution_count": 10,
     "metadata": {},
     "output_type": "execute_result"
    }
   ],
   "source": [
    "tsa.adfuller(mon_sales['item_cnt_mon'].diff()[1:])[1]"
   ]
  },
  {
   "cell_type": "markdown",
   "id": "75ce8c2a",
   "metadata": {
    "papermill": {
     "duration": 0.01417,
     "end_time": "2022-06-18T15:13:49.787881",
     "exception": false,
     "start_time": "2022-06-18T15:13:49.773711",
     "status": "completed"
    },
    "tags": []
   },
   "source": [
    "after a single difference, the adf test p-value=4.0326e-19 is less than 0.05. thus, we reject the null hypothesis and conclude that the time series is stationary.   \n"
   ]
  },
  {
   "cell_type": "code",
   "execution_count": 11,
   "id": "ebbfe769",
   "metadata": {
    "execution": {
     "iopub.execute_input": "2022-06-18T15:13:49.819287Z",
     "iopub.status.busy": "2022-06-18T15:13:49.818880Z",
     "iopub.status.idle": "2022-06-18T15:13:50.623092Z",
     "shell.execute_reply": "2022-06-18T15:13:50.622058Z"
    },
    "papermill": {
     "duration": 0.8222,
     "end_time": "2022-06-18T15:13:50.625273",
     "exception": false,
     "start_time": "2022-06-18T15:13:49.803073",
     "status": "completed"
    },
    "tags": []
   },
   "outputs": [
    {
     "name": "stderr",
     "output_type": "stream",
     "text": [
      "/opt/conda/lib/python3.7/site-packages/statsmodels/graphics/tsaplots.py:353: FutureWarning: The default method 'yw' can produce PACF values outside of the [-1,1] interval. After 0.13, the default will change tounadjusted Yule-Walker ('ywm'). You can use this method now by setting method='ywm'.\n",
      "  FutureWarning,\n"
     ]
    },
    {
     "data": {
      "image/png": "[encoded data removed]",
      "text/plain": [
       "<Figure size 720x540 with 3 Axes>"
      ]
     },
     "metadata": {},
     "output_type": "display_data"
    }
   ],
   "source": [
    "plot_ts(mon_sales['item_cnt_mon'].diff()[1:])"
   ]
  },
  {
   "cell_type": "markdown",
   "id": "ac3a6f12",
   "metadata": {
    "papermill": {
     "duration": 0.014928,
     "end_time": "2022-06-18T15:13:50.655957",
     "exception": false,
     "start_time": "2022-06-18T15:13:50.641029",
     "status": "completed"
    },
    "tags": []
   },
   "source": [
    "from the autocorrelation plot, the autocorelation of lags beyond 0 is not statistically different from 0.   \n",
    "from the partial autocorrelation plot, the autocorrelation of lag 2 and 10 is statistically different from 0."
   ]
  },
  {
   "cell_type": "markdown",
   "id": "8f516771",
   "metadata": {
    "papermill": {
     "duration": 0.015042,
     "end_time": "2022-06-18T15:13:50.686205",
     "exception": false,
     "start_time": "2022-06-18T15:13:50.671163",
     "status": "completed"
    },
    "tags": []
   },
   "source": [
    "# Modeling"
   ]
  },
  {
   "cell_type": "markdown",
   "id": "453d56f4",
   "metadata": {
    "papermill": {
     "duration": 0.015302,
     "end_time": "2022-06-18T15:13:50.717134",
     "exception": false,
     "start_time": "2022-06-18T15:13:50.701832",
     "status": "completed"
    },
    "tags": []
   },
   "source": [
    "## ARIMA"
   ]
  },
  {
   "cell_type": "code",
   "execution_count": 12,
   "id": "12a118d7",
   "metadata": {
    "execution": {
     "iopub.execute_input": "2022-06-18T15:13:50.748949Z",
     "iopub.status.busy": "2022-06-18T15:13:50.748248Z",
     "iopub.status.idle": "2022-06-18T15:13:50.839543Z",
     "shell.execute_reply": "2022-06-18T15:13:50.838759Z"
    },
    "papermill": {
     "duration": 0.110277,
     "end_time": "2022-06-18T15:13:50.842838",
     "exception": false,
     "start_time": "2022-06-18T15:13:50.732561",
     "status": "completed"
    },
    "tags": []
   },
   "outputs": [
    {
     "data": {
      "text/html": [
       "<table class=\"simpletable\">\n",
       "<caption>SARIMAX Results</caption>\n",
       "<tr>\n",
       "  <th>Dep. Variable:</th>     <td>item_cnt_mon</td>   <th>  No. Observations:  </th>    <td>34</td>   \n",
       "</tr>\n",
       "<tr>\n",
       "  <th>Model:</th>            <td>ARIMA(2, 1, 0)</td>  <th>  Log Likelihood     </th> <td>-356.311</td>\n",
       "</tr>\n",
       "<tr>\n",
       "  <th>Date:</th>            <td>Sat, 18 Jun 2022</td> <th>  AIC                </th>  <td>718.622</td>\n",
       "</tr>\n",
       "<tr>\n",
       "  <th>Time:</th>                <td>15:13:50</td>     <th>  BIC                </th>  <td>723.111</td>\n",
       "</tr>\n",
       "<tr>\n",
       "  <th>Sample:</th>                  <td>0</td>        <th>  HQIC               </th>  <td>720.133</td>\n",
       "</tr>\n",
       "<tr>\n",
       "  <th></th>                       <td> - 34</td>      <th>                     </th>     <td> </td>   \n",
       "</tr>\n",
       "<tr>\n",
       "  <th>Covariance Type:</th>        <td>opg</td>       <th>                     </th>     <td> </td>   \n",
       "</tr>\n",
       "</table>\n",
       "<table class=\"simpletable\">\n",
       "<tr>\n",
       "     <td></td>       <th>coef</th>     <th>std err</th>      <th>z</th>      <th>P>|z|</th>  <th>[0.025</th>    <th>0.975]</th>  \n",
       "</tr>\n",
       "<tr>\n",
       "  <th>ar.L1</th>  <td>   -0.2414</td> <td>    0.116</td> <td>   -2.082</td> <td> 0.037</td> <td>   -0.469</td> <td>   -0.014</td>\n",
       "</tr>\n",
       "<tr>\n",
       "  <th>ar.L2</th>  <td>   -0.2565</td> <td>    0.172</td> <td>   -1.494</td> <td> 0.135</td> <td>   -0.593</td> <td>    0.080</td>\n",
       "</tr>\n",
       "<tr>\n",
       "  <th>sigma2</th> <td> 1.396e+08</td> <td> 1.77e-10</td> <td> 7.86e+17</td> <td> 0.000</td> <td>  1.4e+08</td> <td>  1.4e+08</td>\n",
       "</tr>\n",
       "</table>\n",
       "<table class=\"simpletable\">\n",
       "<tr>\n",
       "  <th>Ljung-Box (L1) (Q):</th>     <td>0.13</td> <th>  Jarque-Bera (JB):  </th> <td>8.90</td>\n",
       "</tr>\n",
       "<tr>\n",
       "  <th>Prob(Q):</th>                <td>0.71</td> <th>  Prob(JB):          </th> <td>0.01</td>\n",
       "</tr>\n",
       "<tr>\n",
       "  <th>Heteroskedasticity (H):</th> <td>2.25</td> <th>  Skew:              </th> <td>0.63</td>\n",
       "</tr>\n",
       "<tr>\n",
       "  <th>Prob(H) (two-sided):</th>    <td>0.19</td> <th>  Kurtosis:          </th> <td>5.21</td>\n",
       "</tr>\n",
       "</table><br/><br/>Warnings:<br/>[1] Covariance matrix calculated using the outer product of gradients (complex-step).<br/>[2] Covariance matrix is singular or near-singular, with condition number 7.3e+33. Standard errors may be unstable."
      ],
      "text/plain": [
       "<class 'statsmodels.iolib.summary.Summary'>\n",
       "\"\"\"\n",
       "                               SARIMAX Results                                \n",
       "==============================================================================\n",
       "Dep. Variable:           item_cnt_mon   No. Observations:                   34\n",
       "Model:                 ARIMA(2, 1, 0)   Log Likelihood                -356.311\n",
       "Date:                Sat, 18 Jun 2022   AIC                            718.622\n",
       "Time:                        15:13:50   BIC                            723.111\n",
       "Sample:                             0   HQIC                           720.133\n",
       "                                 - 34                                         \n",
       "Covariance Type:                  opg                                         \n",
       "==============================================================================\n",
       "                 coef    std err          z      P>|z|      [0.025      0.975]\n",
       "------------------------------------------------------------------------------\n",
       "ar.L1         -0.2414      0.116     -2.082      0.037      -0.469      -0.014\n",
       "ar.L2         -0.2565      0.172     -1.494      0.135      -0.593       0.080\n",
       "sigma2      1.396e+08   1.77e-10   7.86e+17      0.000     1.4e+08     1.4e+08\n",
       "===================================================================================\n",
       "Ljung-Box (L1) (Q):                   0.13   Jarque-Bera (JB):                 8.90\n",
       "Prob(Q):                              0.71   Prob(JB):                         0.01\n",
       "Heteroskedasticity (H):               2.25   Skew:                             0.63\n",
       "Prob(H) (two-sided):                  0.19   Kurtosis:                         5.21\n",
       "===================================================================================\n",
       "\n",
       "Warnings:\n",
       "[1] Covariance matrix calculated using the outer product of gradients (complex-step).\n",
       "[2] Covariance matrix is singular or near-singular, with condition number 7.3e+33. Standard errors may be unstable.\n",
       "\"\"\""
      ]
     },
     "execution_count": 12,
     "metadata": {},
     "output_type": "execute_result"
    }
   ],
   "source": [
    "model_2 = ARIMA(mon_sales['item_cnt_mon'], order=(2, 1, 0))\n",
    "model_2_fit = model_2.fit()\n",
    "model_2_fit.summary()"
   ]
  },
  {
   "cell_type": "code",
   "execution_count": 13,
   "id": "184ba120",
   "metadata": {
    "execution": {
     "iopub.execute_input": "2022-06-18T15:13:50.882657Z",
     "iopub.status.busy": "2022-06-18T15:13:50.881481Z",
     "iopub.status.idle": "2022-06-18T15:13:51.099817Z",
     "shell.execute_reply": "2022-06-18T15:13:51.098699Z"
    },
    "papermill": {
     "duration": 0.239239,
     "end_time": "2022-06-18T15:13:51.102908",
     "exception": false,
     "start_time": "2022-06-18T15:13:50.863669",
     "status": "completed"
    },
    "tags": []
   },
   "outputs": [
    {
     "data": {
      "text/html": [
       "<table class=\"simpletable\">\n",
       "<caption>SARIMAX Results</caption>\n",
       "<tr>\n",
       "  <th>Dep. Variable:</th>     <td>item_cnt_mon</td>   <th>  No. Observations:  </th>    <td>34</td>   \n",
       "</tr>\n",
       "<tr>\n",
       "  <th>Model:</th>            <td>ARIMA(10, 1, 0)</td> <th>  Log Likelihood     </th> <td>-355.656</td>\n",
       "</tr>\n",
       "<tr>\n",
       "  <th>Date:</th>            <td>Sat, 18 Jun 2022</td> <th>  AIC                </th>  <td>733.311</td>\n",
       "</tr>\n",
       "<tr>\n",
       "  <th>Time:</th>                <td>15:13:51</td>     <th>  BIC                </th>  <td>749.773</td>\n",
       "</tr>\n",
       "<tr>\n",
       "  <th>Sample:</th>                  <td>0</td>        <th>  HQIC               </th>  <td>738.850</td>\n",
       "</tr>\n",
       "<tr>\n",
       "  <th></th>                       <td> - 34</td>      <th>                     </th>     <td> </td>   \n",
       "</tr>\n",
       "<tr>\n",
       "  <th>Covariance Type:</th>        <td>opg</td>       <th>                     </th>     <td> </td>   \n",
       "</tr>\n",
       "</table>\n",
       "<table class=\"simpletable\">\n",
       "<tr>\n",
       "     <td></td>       <th>coef</th>     <th>std err</th>      <th>z</th>      <th>P>|z|</th>  <th>[0.025</th>    <th>0.975]</th>  \n",
       "</tr>\n",
       "<tr>\n",
       "  <th>ar.L1</th>  <td>   -0.2613</td> <td>    0.181</td> <td>   -1.443</td> <td> 0.149</td> <td>   -0.616</td> <td>    0.094</td>\n",
       "</tr>\n",
       "<tr>\n",
       "  <th>ar.L2</th>  <td>   -0.2974</td> <td>    0.241</td> <td>   -1.234</td> <td> 0.217</td> <td>   -0.770</td> <td>    0.175</td>\n",
       "</tr>\n",
       "<tr>\n",
       "  <th>ar.L3</th>  <td>   -0.1043</td> <td>    0.329</td> <td>   -0.317</td> <td> 0.751</td> <td>   -0.749</td> <td>    0.541</td>\n",
       "</tr>\n",
       "<tr>\n",
       "  <th>ar.L4</th>  <td>   -0.0837</td> <td>    0.414</td> <td>   -0.202</td> <td> 0.840</td> <td>   -0.895</td> <td>    0.727</td>\n",
       "</tr>\n",
       "<tr>\n",
       "  <th>ar.L5</th>  <td>   -0.0591</td> <td>    0.528</td> <td>   -0.112</td> <td> 0.911</td> <td>   -1.093</td> <td>    0.975</td>\n",
       "</tr>\n",
       "<tr>\n",
       "  <th>ar.L6</th>  <td>   -0.0419</td> <td>    0.570</td> <td>   -0.074</td> <td> 0.941</td> <td>   -1.158</td> <td>    1.075</td>\n",
       "</tr>\n",
       "<tr>\n",
       "  <th>ar.L7</th>  <td>   -0.1681</td> <td>    0.477</td> <td>   -0.353</td> <td> 0.724</td> <td>   -1.103</td> <td>    0.766</td>\n",
       "</tr>\n",
       "<tr>\n",
       "  <th>ar.L8</th>  <td>   -0.0786</td> <td>    0.372</td> <td>   -0.211</td> <td> 0.833</td> <td>   -0.808</td> <td>    0.651</td>\n",
       "</tr>\n",
       "<tr>\n",
       "  <th>ar.L9</th>  <td>    0.0123</td> <td>    0.423</td> <td>    0.029</td> <td> 0.977</td> <td>   -0.817</td> <td>    0.841</td>\n",
       "</tr>\n",
       "<tr>\n",
       "  <th>ar.L10</th> <td>   -0.0657</td> <td>    0.362</td> <td>   -0.182</td> <td> 0.856</td> <td>   -0.775</td> <td>    0.644</td>\n",
       "</tr>\n",
       "<tr>\n",
       "  <th>sigma2</th> <td> 1.526e+08</td> <td> 1.73e-09</td> <td> 8.83e+16</td> <td> 0.000</td> <td> 1.53e+08</td> <td> 1.53e+08</td>\n",
       "</tr>\n",
       "</table>\n",
       "<table class=\"simpletable\">\n",
       "<tr>\n",
       "  <th>Ljung-Box (L1) (Q):</th>     <td>0.28</td> <th>  Jarque-Bera (JB):  </th> <td>14.53</td>\n",
       "</tr>\n",
       "<tr>\n",
       "  <th>Prob(Q):</th>                <td>0.60</td> <th>  Prob(JB):          </th> <td>0.00</td> \n",
       "</tr>\n",
       "<tr>\n",
       "  <th>Heteroskedasticity (H):</th> <td>1.80</td> <th>  Skew:              </th> <td>0.92</td> \n",
       "</tr>\n",
       "<tr>\n",
       "  <th>Prob(H) (two-sided):</th>    <td>0.34</td> <th>  Kurtosis:          </th> <td>5.67</td> \n",
       "</tr>\n",
       "</table><br/><br/>Warnings:<br/>[1] Covariance matrix calculated using the outer product of gradients (complex-step).<br/>[2] Covariance matrix is singular or near-singular, with condition number 7.35e+32. Standard errors may be unstable."
      ],
      "text/plain": [
       "<class 'statsmodels.iolib.summary.Summary'>\n",
       "\"\"\"\n",
       "                               SARIMAX Results                                \n",
       "==============================================================================\n",
       "Dep. Variable:           item_cnt_mon   No. Observations:                   34\n",
       "Model:                ARIMA(10, 1, 0)   Log Likelihood                -355.656\n",
       "Date:                Sat, 18 Jun 2022   AIC                            733.311\n",
       "Time:                        15:13:51   BIC                            749.773\n",
       "Sample:                             0   HQIC                           738.850\n",
       "                                 - 34                                         \n",
       "Covariance Type:                  opg                                         \n",
       "==============================================================================\n",
       "                 coef    std err          z      P>|z|      [0.025      0.975]\n",
       "------------------------------------------------------------------------------\n",
       "ar.L1         -0.2613      0.181     -1.443      0.149      -0.616       0.094\n",
       "ar.L2         -0.2974      0.241     -1.234      0.217      -0.770       0.175\n",
       "ar.L3         -0.1043      0.329     -0.317      0.751      -0.749       0.541\n",
       "ar.L4         -0.0837      0.414     -0.202      0.840      -0.895       0.727\n",
       "ar.L5         -0.0591      0.528     -0.112      0.911      -1.093       0.975\n",
       "ar.L6         -0.0419      0.570     -0.074      0.941      -1.158       1.075\n",
       "ar.L7         -0.1681      0.477     -0.353      0.724      -1.103       0.766\n",
       "ar.L8         -0.0786      0.372     -0.211      0.833      -0.808       0.651\n",
       "ar.L9          0.0123      0.423      0.029      0.977      -0.817       0.841\n",
       "ar.L10        -0.0657      0.362     -0.182      0.856      -0.775       0.644\n",
       "sigma2      1.526e+08   1.73e-09   8.83e+16      0.000    1.53e+08    1.53e+08\n",
       "===================================================================================\n",
       "Ljung-Box (L1) (Q):                   0.28   Jarque-Bera (JB):                14.53\n",
       "Prob(Q):                              0.60   Prob(JB):                         0.00\n",
       "Heteroskedasticity (H):               1.80   Skew:                             0.92\n",
       "Prob(H) (two-sided):                  0.34   Kurtosis:                         5.67\n",
       "===================================================================================\n",
       "\n",
       "Warnings:\n",
       "[1] Covariance matrix calculated using the outer product of gradients (complex-step).\n",
       "[2] Covariance matrix is singular or near-singular, with condition number 7.35e+32. Standard errors may be unstable.\n",
       "\"\"\""
      ]
     },
     "execution_count": 13,
     "metadata": {},
     "output_type": "execute_result"
    }
   ],
   "source": [
    "model_10 = ARIMA(mon_sales['item_cnt_mon'], order=(10, 1, 0))\n",
    "model_10_fit = model_10.fit()\n",
    "model_10_fit.summary()"
   ]
  },
  {
   "cell_type": "markdown",
   "id": "19c6e9a1",
   "metadata": {
    "papermill": {
     "duration": 0.027904,
     "end_time": "2022-06-18T15:13:51.159251",
     "exception": false,
     "start_time": "2022-06-18T15:13:51.131347",
     "status": "completed"
    },
    "tags": []
   },
   "source": [
    "ARIMA(2, 1, 0) has a lower AIC and BIC than ARIMA(10, 1, 0) thus, we select ARIMA(2, 1, 0) to model the time series. however, it is worth noting that the ar.l2 of the ARIMA(2, 1, 0) is not significantly different from 0 since p-value is 0.08 greater than 0.05."
   ]
  },
  {
   "cell_type": "code",
   "execution_count": 14,
   "id": "e5a5f9bb",
   "metadata": {
    "execution": {
     "iopub.execute_input": "2022-06-18T15:13:51.200406Z",
     "iopub.status.busy": "2022-06-18T15:13:51.199251Z",
     "iopub.status.idle": "2022-06-18T15:13:51.234205Z",
     "shell.execute_reply": "2022-06-18T15:13:51.233390Z"
    },
    "papermill": {
     "duration": 0.054752,
     "end_time": "2022-06-18T15:13:51.236303",
     "exception": false,
     "start_time": "2022-06-18T15:13:51.181551",
     "status": "completed"
    },
    "tags": []
   },
   "outputs": [
    {
     "data": {
      "text/html": [
       "<table class=\"simpletable\">\n",
       "<caption>SARIMAX Results</caption>\n",
       "<tr>\n",
       "  <th>Dep. Variable:</th>     <td>item_cnt_mon</td>   <th>  No. Observations:  </th>    <td>34</td>   \n",
       "</tr>\n",
       "<tr>\n",
       "  <th>Model:</th>            <td>ARIMA(2, 1, 0)</td>  <th>  Log Likelihood     </th> <td>-336.561</td>\n",
       "</tr>\n",
       "<tr>\n",
       "  <th>Date:</th>            <td>Sat, 18 Jun 2022</td> <th>  AIC                </th>  <td>677.122</td>\n",
       "</tr>\n",
       "<tr>\n",
       "  <th>Time:</th>                <td>15:13:51</td>     <th>  BIC                </th>  <td>679.990</td>\n",
       "</tr>\n",
       "<tr>\n",
       "  <th>Sample:</th>                  <td>0</td>        <th>  HQIC               </th>  <td>678.057</td>\n",
       "</tr>\n",
       "<tr>\n",
       "  <th></th>                       <td> - 34</td>      <th>                     </th>     <td> </td>   \n",
       "</tr>\n",
       "<tr>\n",
       "  <th>Covariance Type:</th>        <td>opg</td>       <th>                     </th>     <td> </td>   \n",
       "</tr>\n",
       "</table>\n",
       "<table class=\"simpletable\">\n",
       "<tr>\n",
       "        <td></td>           <th>coef</th>     <th>std err</th>      <th>z</th>      <th>P>|z|</th>  <th>[0.025</th>    <th>0.975]</th>  \n",
       "</tr>\n",
       "<tr>\n",
       "  <th>ar.L1</th>         <td>   -0.2094</td> <td>    0.093</td> <td>   -2.262</td> <td> 0.024</td> <td>   -0.391</td> <td>   -0.028</td>\n",
       "</tr>\n",
       "<tr>\n",
       "  <th>ar.L2 (fixed)</th> <td>         0</td> <td>      nan</td> <td>      nan</td> <td>   nan</td> <td>      nan</td> <td>      nan</td>\n",
       "</tr>\n",
       "<tr>\n",
       "  <th>sigma2</th>        <td> 1.396e+08</td> <td> 2.92e-11</td> <td> 4.78e+18</td> <td> 0.000</td> <td>  1.4e+08</td> <td>  1.4e+08</td>\n",
       "</tr>\n",
       "</table>\n",
       "<table class=\"simpletable\">\n",
       "<tr>\n",
       "  <th>Ljung-Box (L1) (Q):</th>     <td>0.14</td> <th>  Jarque-Bera (JB):  </th> <td>4.78</td>\n",
       "</tr>\n",
       "<tr>\n",
       "  <th>Prob(Q):</th>                <td>0.71</td> <th>  Prob(JB):          </th> <td>0.09</td>\n",
       "</tr>\n",
       "<tr>\n",
       "  <th>Heteroskedasticity (H):</th> <td>0.99</td> <th>  Skew:              </th> <td>0.27</td>\n",
       "</tr>\n",
       "<tr>\n",
       "  <th>Prob(H) (two-sided):</th>    <td>0.99</td> <th>  Kurtosis:          </th> <td>4.85</td>\n",
       "</tr>\n",
       "</table><br/><br/>Warnings:<br/>[1] Covariance matrix calculated using the outer product of gradients (complex-step).<br/>[2] Covariance matrix is singular or near-singular, with condition number    inf. Standard errors may be unstable."
      ],
      "text/plain": [
       "<class 'statsmodels.iolib.summary.Summary'>\n",
       "\"\"\"\n",
       "                               SARIMAX Results                                \n",
       "==============================================================================\n",
       "Dep. Variable:           item_cnt_mon   No. Observations:                   34\n",
       "Model:                 ARIMA(2, 1, 0)   Log Likelihood                -336.561\n",
       "Date:                Sat, 18 Jun 2022   AIC                            677.122\n",
       "Time:                        15:13:51   BIC                            679.990\n",
       "Sample:                             0   HQIC                           678.057\n",
       "                                 - 34                                         \n",
       "Covariance Type:                  opg                                         \n",
       "=================================================================================\n",
       "                    coef    std err          z      P>|z|      [0.025      0.975]\n",
       "---------------------------------------------------------------------------------\n",
       "ar.L1            -0.2094      0.093     -2.262      0.024      -0.391      -0.028\n",
       "ar.L2 (fixed)          0        nan        nan        nan         nan         nan\n",
       "sigma2         1.396e+08   2.92e-11   4.78e+18      0.000     1.4e+08     1.4e+08\n",
       "===================================================================================\n",
       "Ljung-Box (L1) (Q):                   0.14   Jarque-Bera (JB):                 4.78\n",
       "Prob(Q):                              0.71   Prob(JB):                         0.09\n",
       "Heteroskedasticity (H):               0.99   Skew:                             0.27\n",
       "Prob(H) (two-sided):                  0.99   Kurtosis:                         4.85\n",
       "===================================================================================\n",
       "\n",
       "Warnings:\n",
       "[1] Covariance matrix calculated using the outer product of gradients (complex-step).\n",
       "[2] Covariance matrix is singular or near-singular, with condition number    inf. Standard errors may be unstable.\n",
       "\"\"\""
      ]
     },
     "execution_count": 14,
     "metadata": {},
     "output_type": "execute_result"
    }
   ],
   "source": [
    "model_21 = ARIMA(mon_sales['item_cnt_mon'], order=(2, 1, 0), enforce_stationarity=False)\n",
    "with model_21.fix_params({'ar.L2': 0}):\n",
    "    model_21_fit = model_21.fit()\n",
    "model_21_fit.summary()"
   ]
  },
  {
   "cell_type": "markdown",
   "id": "a3a80882",
   "metadata": {
    "papermill": {
     "duration": 0.015043,
     "end_time": "2022-06-18T15:13:51.267128",
     "exception": false,
     "start_time": "2022-06-18T15:13:51.252085",
     "status": "completed"
    },
    "tags": []
   },
   "source": [
    "Fixing ar.L2 of ARIMA(2, 1, 0) to 0 produces a lower AIC and BIC"
   ]
  },
  {
   "cell_type": "markdown",
   "id": "b804697b",
   "metadata": {
    "papermill": {
     "duration": 0.015184,
     "end_time": "2022-06-18T15:13:51.297666",
     "exception": false,
     "start_time": "2022-06-18T15:13:51.282482",
     "status": "completed"
    },
    "tags": []
   },
   "source": [
    "### Residual Test"
   ]
  },
  {
   "cell_type": "code",
   "execution_count": 15,
   "id": "e553574c",
   "metadata": {
    "execution": {
     "iopub.execute_input": "2022-06-18T15:13:51.331302Z",
     "iopub.status.busy": "2022-06-18T15:13:51.330652Z",
     "iopub.status.idle": "2022-06-18T15:13:51.342184Z",
     "shell.execute_reply": "2022-06-18T15:13:51.341219Z"
    },
    "papermill": {
     "duration": 0.030328,
     "end_time": "2022-06-18T15:13:51.344285",
     "exception": false,
     "start_time": "2022-06-18T15:13:51.313957",
     "status": "completed"
    },
    "tags": []
   },
   "outputs": [
    {
     "data": {
      "text/html": [
       "<div>\n",
       "<style scoped>\n",
       "    .dataframe tbody tr th:only-of-type {\n",
       "        vertical-align: middle;\n",
       "    }\n",
       "\n",
       "    .dataframe tbody tr th {\n",
       "        vertical-align: top;\n",
       "    }\n",
       "\n",
       "    .dataframe thead th {\n",
       "        text-align: right;\n",
       "    }\n",
       "</style>\n",
       "<table border=\"1\" class=\"dataframe\">\n",
       "  <thead>\n",
       "    <tr style=\"text-align: right;\">\n",
       "      <th></th>\n",
       "      <th>lb_stat</th>\n",
       "      <th>lb_pvalue</th>\n",
       "    </tr>\n",
       "  </thead>\n",
       "  <tbody>\n",
       "    <tr>\n",
       "      <th>1</th>\n",
       "      <td>0.150745</td>\n",
       "      <td>0.697825</td>\n",
       "    </tr>\n",
       "    <tr>\n",
       "      <th>2</th>\n",
       "      <td>3.133056</td>\n",
       "      <td>0.208769</td>\n",
       "    </tr>\n",
       "    <tr>\n",
       "      <th>3</th>\n",
       "      <td>3.145299</td>\n",
       "      <td>0.369761</td>\n",
       "    </tr>\n",
       "    <tr>\n",
       "      <th>4</th>\n",
       "      <td>3.161725</td>\n",
       "      <td>0.531135</td>\n",
       "    </tr>\n",
       "    <tr>\n",
       "      <th>5</th>\n",
       "      <td>3.163176</td>\n",
       "      <td>0.674845</td>\n",
       "    </tr>\n",
       "    <tr>\n",
       "      <th>6</th>\n",
       "      <td>3.165634</td>\n",
       "      <td>0.787789</td>\n",
       "    </tr>\n",
       "  </tbody>\n",
       "</table>\n",
       "</div>"
      ],
      "text/plain": [
       "    lb_stat  lb_pvalue\n",
       "1  0.150745   0.697825\n",
       "2  3.133056   0.208769\n",
       "3  3.145299   0.369761\n",
       "4  3.161725   0.531135\n",
       "5  3.163176   0.674845\n",
       "6  3.165634   0.787789"
      ]
     },
     "execution_count": 15,
     "metadata": {},
     "output_type": "execute_result"
    }
   ],
   "source": [
    "sm.stats.acorr_ljungbox(model_21_fit.resid)"
   ]
  },
  {
   "cell_type": "markdown",
   "id": "248d7268",
   "metadata": {
    "execution": {
     "iopub.execute_input": "2022-06-18T05:52:05.197265Z",
     "iopub.status.busy": "2022-06-18T05:52:05.196699Z",
     "iopub.status.idle": "2022-06-18T05:52:05.205052Z",
     "shell.execute_reply": "2022-06-18T05:52:05.203712Z",
     "shell.execute_reply.started": "2022-06-18T05:52:05.197219Z"
    },
    "papermill": {
     "duration": 0.015293,
     "end_time": "2022-06-18T15:13:51.375143",
     "exception": false,
     "start_time": "2022-06-18T15:13:51.359850",
     "status": "completed"
    },
    "tags": []
   },
   "source": [
    "since box test p-value for all 6 lags of the residuals is greater than 0.05, we fail to reject the null hypothesis and conclude the residuals are white noise"
   ]
  },
  {
   "cell_type": "code",
   "execution_count": 16,
   "id": "b6edcfde",
   "metadata": {
    "execution": {
     "iopub.execute_input": "2022-06-18T15:13:51.408444Z",
     "iopub.status.busy": "2022-06-18T15:13:51.408003Z",
     "iopub.status.idle": "2022-06-18T15:13:51.421957Z",
     "shell.execute_reply": "2022-06-18T15:13:51.421105Z"
    },
    "papermill": {
     "duration": 0.032849,
     "end_time": "2022-06-18T15:13:51.423996",
     "exception": false,
     "start_time": "2022-06-18T15:13:51.391147",
     "status": "completed"
    },
    "tags": []
   },
   "outputs": [
    {
     "data": {
      "text/html": [
       "<div>\n",
       "<style scoped>\n",
       "    .dataframe tbody tr th:only-of-type {\n",
       "        vertical-align: middle;\n",
       "    }\n",
       "\n",
       "    .dataframe tbody tr th {\n",
       "        vertical-align: top;\n",
       "    }\n",
       "\n",
       "    .dataframe thead th {\n",
       "        text-align: right;\n",
       "    }\n",
       "</style>\n",
       "<table border=\"1\" class=\"dataframe\">\n",
       "  <thead>\n",
       "    <tr style=\"text-align: right;\">\n",
       "      <th></th>\n",
       "      <th>lb_stat</th>\n",
       "      <th>lb_pvalue</th>\n",
       "    </tr>\n",
       "  </thead>\n",
       "  <tbody>\n",
       "    <tr>\n",
       "      <th>1</th>\n",
       "      <td>9.327240</td>\n",
       "      <td>0.002258</td>\n",
       "    </tr>\n",
       "    <tr>\n",
       "      <th>2</th>\n",
       "      <td>9.449248</td>\n",
       "      <td>0.008874</td>\n",
       "    </tr>\n",
       "    <tr>\n",
       "      <th>3</th>\n",
       "      <td>10.133801</td>\n",
       "      <td>0.017462</td>\n",
       "    </tr>\n",
       "    <tr>\n",
       "      <th>4</th>\n",
       "      <td>11.310377</td>\n",
       "      <td>0.023289</td>\n",
       "    </tr>\n",
       "    <tr>\n",
       "      <th>5</th>\n",
       "      <td>13.424602</td>\n",
       "      <td>0.019709</td>\n",
       "    </tr>\n",
       "    <tr>\n",
       "      <th>6</th>\n",
       "      <td>15.535024</td>\n",
       "      <td>0.016480</td>\n",
       "    </tr>\n",
       "  </tbody>\n",
       "</table>\n",
       "</div>"
      ],
      "text/plain": [
       "     lb_stat  lb_pvalue\n",
       "1   9.327240   0.002258\n",
       "2   9.449248   0.008874\n",
       "3  10.133801   0.017462\n",
       "4  11.310377   0.023289\n",
       "5  13.424602   0.019709\n",
       "6  15.535024   0.016480"
      ]
     },
     "execution_count": 16,
     "metadata": {},
     "output_type": "execute_result"
    }
   ],
   "source": [
    "sm.stats.acorr_ljungbox(model_21_fit.resid**2)"
   ]
  },
  {
   "cell_type": "markdown",
   "id": "71a031dc",
   "metadata": {
    "papermill": {
     "duration": 0.015215,
     "end_time": "2022-06-18T15:13:51.454958",
     "exception": false,
     "start_time": "2022-06-18T15:13:51.439743",
     "status": "completed"
    },
    "tags": []
   },
   "source": [
    "since box test p-value for all 6 lags of the residuals square is lesser than 0.05, we reject the null hypothes is and conclude the residuals square have autocorrelation"
   ]
  },
  {
   "cell_type": "markdown",
   "id": "e2e5f010",
   "metadata": {
    "papermill": {
     "duration": 0.015234,
     "end_time": "2022-06-18T15:13:51.485707",
     "exception": false,
     "start_time": "2022-06-18T15:13:51.470473",
     "status": "completed"
    },
    "tags": []
   },
   "source": [
    "## GARCH"
   ]
  },
  {
   "cell_type": "code",
   "execution_count": 17,
   "id": "a297b7ee",
   "metadata": {
    "execution": {
     "iopub.execute_input": "2022-06-18T15:13:51.520263Z",
     "iopub.status.busy": "2022-06-18T15:13:51.519840Z",
     "iopub.status.idle": "2022-06-18T15:13:52.222440Z",
     "shell.execute_reply": "2022-06-18T15:13:52.221701Z"
    },
    "papermill": {
     "duration": 0.721625,
     "end_time": "2022-06-18T15:13:52.224376",
     "exception": false,
     "start_time": "2022-06-18T15:13:51.502751",
     "status": "completed"
    },
    "tags": []
   },
   "outputs": [
    {
     "name": "stderr",
     "output_type": "stream",
     "text": [
      "/opt/conda/lib/python3.7/site-packages/statsmodels/graphics/tsaplots.py:353: FutureWarning: The default method 'yw' can produce PACF values outside of the [-1,1] interval. After 0.13, the default will change tounadjusted Yule-Walker ('ywm'). You can use this method now by setting method='ywm'.\n",
      "  FutureWarning,\n"
     ]
    },
    {
     "data": {
      "image/png": "[encoded data removed]",
      "text/plain": [
       "<Figure size 720x540 with 3 Axes>"
      ]
     },
     "metadata": {},
     "output_type": "display_data"
    }
   ],
   "source": [
    "resid = model_21_fit.resid\n",
    "plot_ts(resid**2)"
   ]
  },
  {
   "cell_type": "markdown",
   "id": "2b4eec8c",
   "metadata": {
    "papermill": {
     "duration": 0.016277,
     "end_time": "2022-06-18T15:13:52.257262",
     "exception": false,
     "start_time": "2022-06-18T15:13:52.240985",
     "status": "completed"
    },
    "tags": []
   },
   "source": [
    "from the autocorrelation plot, the autocorelation of lags beyond 1 is not statistically different from 0.  \n",
    "from the partial autocorrelation plot, the autocorrelation of lag 1 and 9 is statistically different from 0."
   ]
  },
  {
   "cell_type": "code",
   "execution_count": 18,
   "id": "ceb55a18",
   "metadata": {
    "execution": {
     "iopub.execute_input": "2022-06-18T15:13:52.292400Z",
     "iopub.status.busy": "2022-06-18T15:13:52.291957Z",
     "iopub.status.idle": "2022-06-18T15:13:52.349191Z",
     "shell.execute_reply": "2022-06-18T15:13:52.347568Z"
    },
    "papermill": {
     "duration": 0.081797,
     "end_time": "2022-06-18T15:13:52.355711",
     "exception": false,
     "start_time": "2022-06-18T15:13:52.273914",
     "status": "completed"
    },
    "tags": []
   },
   "outputs": [
    {
     "name": "stdout",
     "output_type": "stream",
     "text": [
      "Iteration:      1,   Func. Count:      6,   Neg. LLF: 364.12667815737245\n",
      "Iteration:      2,   Func. Count:     11,   Neg. LLF: 363.59692205898295\n",
      "Iteration:      3,   Func. Count:     16,   Neg. LLF: 366.33902579408056\n",
      "Iteration:      4,   Func. Count:     22,   Neg. LLF: 363.4571063086095\n",
      "Iteration:      5,   Func. Count:     27,   Neg. LLF: 363.40885955366326\n",
      "Iteration:      6,   Func. Count:     32,   Neg. LLF: 363.40407831491035\n",
      "Iteration:      7,   Func. Count:     37,   Neg. LLF: 363.4038287311494\n",
      "Iteration:      8,   Func. Count:     42,   Neg. LLF: 363.4038271338114\n",
      "Iteration:      9,   Func. Count:     46,   Neg. LLF: 363.4038272304475\n",
      "Optimization terminated successfully    (Exit mode 0)\n",
      "            Current function value: 363.4038271338114\n",
      "            Iterations: 9\n",
      "            Function evaluations: 46\n",
      "            Gradient evaluations: 9\n"
     ]
    },
    {
     "name": "stderr",
     "output_type": "stream",
     "text": [
      "/opt/conda/lib/python3.7/site-packages/arch/univariate/base.py:310: DataScaleWarning: y is poorly scaled, which may affect convergence of the optimizer when\n",
      "estimating the model parameters. The scale of y is 1.538e+08. Parameter\n",
      "estimation work better when this value is between 1 and 1000. The recommended\n",
      "rescaling is 0.001 * y.\n",
      "\n",
      "This warning can be disabled by either rescaling y before initializing the\n",
      "model or by setting rescale=False.\n",
      "\n",
      "  data_scale_warning.format(orig_scale, rescale), DataScaleWarning\n"
     ]
    },
    {
     "data": {
      "text/html": [
       "<table class=\"simpletable\">\n",
       "<caption>Constant Mean - GARCH Model Results</caption>\n",
       "<tr>\n",
       "  <th>Dep. Variable:</th>        <td>None</td>        <th>  R-squared:         </th>  <td>   0.000</td> \n",
       "</tr>\n",
       "<tr>\n",
       "  <th>Mean Model:</th>       <td>Constant Mean</td>   <th>  Adj. R-squared:    </th>  <td>   0.000</td> \n",
       "</tr>\n",
       "<tr>\n",
       "  <th>Vol Model:</th>            <td>GARCH</td>       <th>  Log-Likelihood:    </th> <td>  -363.404</td>\n",
       "</tr>\n",
       "<tr>\n",
       "  <th>Distribution:</th>        <td>Normal</td>       <th>  AIC:               </th> <td>   734.808</td>\n",
       "</tr>\n",
       "<tr>\n",
       "  <th>Method:</th>        <td>Maximum Likelihood</td> <th>  BIC:               </th> <td>   740.913</td>\n",
       "</tr>\n",
       "<tr>\n",
       "  <th></th>                        <td></td>          <th>  No. Observations:  </th>     <td>34</td>    \n",
       "</tr>\n",
       "<tr>\n",
       "  <th>Date:</th>           <td>Sat, Jun 18 2022</td>  <th>  Df Residuals:      </th>     <td>33</td>    \n",
       "</tr>\n",
       "<tr>\n",
       "  <th>Time:</th>               <td>15:13:52</td>      <th>  Df Model:          </th>      <td>1</td>    \n",
       "</tr>\n",
       "</table>\n",
       "<table class=\"simpletable\">\n",
       "<caption>Mean Model</caption>\n",
       "<tr>\n",
       "   <td></td>     <th>coef</th>     <th>std err</th>      <th>t</th>       <th>P>|t|</th>      <th>95.0% Conf. Int.</th>   \n",
       "</tr>\n",
       "<tr>\n",
       "  <th>mu</th> <td> 2147.2538</td> <td> 1241.103</td> <td>    1.730</td> <td>8.361e-02</td> <td>[-2.853e+02,4.580e+03]</td>\n",
       "</tr>\n",
       "</table>\n",
       "<table class=\"simpletable\">\n",
       "<caption>Volatility Model</caption>\n",
       "<tr>\n",
       "      <td></td>        <th>coef</th>     <th>std err</th>      <th>t</th>       <th>P>|t|</th>      <th>95.0% Conf. Int.</th>   \n",
       "</tr>\n",
       "<tr>\n",
       "  <th>omega</th>    <td>7.6915e+07</td> <td>5.185e+07</td> <td>    1.483</td> <td>    0.138</td> <td>[-2.471e+07,1.785e+08]</td>\n",
       "</tr>\n",
       "<tr>\n",
       "  <th>alpha[1]</th> <td>    0.5182</td> <td>    0.230</td> <td>    2.250</td> <td>2.448e-02</td>   <td>[6.671e-02,  0.970]</td> \n",
       "</tr>\n",
       "<tr>\n",
       "  <th>beta[1]</th>  <td>5.7304e-13</td> <td>    0.468</td> <td>1.225e-12</td> <td>    1.000</td>    <td>[ -0.917,  0.917]</td>  \n",
       "</tr>\n",
       "</table><br/><br/>Covariance estimator: robust"
      ],
      "text/plain": [
       "<class 'statsmodels.iolib.summary.Summary'>\n",
       "\"\"\"\n",
       "                     Constant Mean - GARCH Model Results                      \n",
       "==============================================================================\n",
       "Dep. Variable:                   None   R-squared:                       0.000\n",
       "Mean Model:             Constant Mean   Adj. R-squared:                  0.000\n",
       "Vol Model:                      GARCH   Log-Likelihood:               -363.404\n",
       "Distribution:                  Normal   AIC:                           734.808\n",
       "Method:            Maximum Likelihood   BIC:                           740.913\n",
       "                                        No. Observations:                   34\n",
       "Date:                Sat, Jun 18 2022   Df Residuals:                       33\n",
       "Time:                        15:13:52   Df Model:                            1\n",
       "                                  Mean Model                                 \n",
       "=============================================================================\n",
       "                 coef    std err          t      P>|t|       95.0% Conf. Int.\n",
       "-----------------------------------------------------------------------------\n",
       "mu          2147.2538   1241.103      1.730  8.361e-02 [-2.853e+02,4.580e+03]\n",
       "                               Volatility Model                              \n",
       "=============================================================================\n",
       "                 coef    std err          t      P>|t|       95.0% Conf. Int.\n",
       "-----------------------------------------------------------------------------\n",
       "omega      7.6915e+07  5.185e+07      1.483      0.138 [-2.471e+07,1.785e+08]\n",
       "alpha[1]       0.5182      0.230      2.250  2.448e-02    [6.671e-02,  0.970]\n",
       "beta[1]    5.7304e-13      0.468  1.225e-12      1.000      [ -0.917,  0.917]\n",
       "=============================================================================\n",
       "\n",
       "Covariance estimator: robust\n",
       "\"\"\""
      ]
     },
     "execution_count": 18,
     "metadata": {},
     "output_type": "execute_result"
    }
   ],
   "source": [
    "garch_11  = arch_model(resid, p=1, q=1)\n",
    "garch_11_fit = garch_11.fit()\n",
    "garch_11_fit.summary()"
   ]
  },
  {
   "cell_type": "code",
   "execution_count": 19,
   "id": "9f297821",
   "metadata": {
    "execution": {
     "iopub.execute_input": "2022-06-18T15:13:52.423754Z",
     "iopub.status.busy": "2022-06-18T15:13:52.422538Z",
     "iopub.status.idle": "2022-06-18T15:13:52.531864Z",
     "shell.execute_reply": "2022-06-18T15:13:52.530794Z"
    },
    "papermill": {
     "duration": 0.147078,
     "end_time": "2022-06-18T15:13:52.535285",
     "exception": false,
     "start_time": "2022-06-18T15:13:52.388207",
     "status": "completed"
    },
    "tags": []
   },
   "outputs": [
    {
     "name": "stderr",
     "output_type": "stream",
     "text": [
      "/opt/conda/lib/python3.7/site-packages/arch/univariate/base.py:310: DataScaleWarning: y is poorly scaled, which may affect convergence of the optimizer when\n",
      "estimating the model parameters. The scale of y is 1.538e+08. Parameter\n",
      "estimation work better when this value is between 1 and 1000. The recommended\n",
      "rescaling is 0.001 * y.\n",
      "\n",
      "This warning can be disabled by either rescaling y before initializing the\n",
      "model or by setting rescale=False.\n",
      "\n",
      "  data_scale_warning.format(orig_scale, rescale), DataScaleWarning\n"
     ]
    },
    {
     "name": "stdout",
     "output_type": "stream",
     "text": [
      "Iteration:      1,   Func. Count:     14,   Neg. LLF: 364.1266781648807\n",
      "Iteration:      2,   Func. Count:     27,   Neg. LLF: 364.00561814397247\n",
      "Iteration:      3,   Func. Count:     40,   Neg. LLF: 363.52373754200073\n",
      "Iteration:      4,   Func. Count:     53,   Neg. LLF: 364.05136322263667\n",
      "Iteration:      5,   Func. Count:     67,   Neg. LLF: 363.40815699094327\n",
      "Iteration:      6,   Func. Count:     80,   Neg. LLF: 363.40391667544867\n",
      "Iteration:      7,   Func. Count:     93,   Neg. LLF: 363.4038275056102\n",
      "Iteration:      8,   Func. Count:    105,   Neg. LLF: 363.4038276022936\n",
      "Optimization terminated successfully    (Exit mode 0)\n",
      "            Current function value: 363.4038275056102\n",
      "            Iterations: 8\n",
      "            Function evaluations: 105\n",
      "            Gradient evaluations: 8\n"
     ]
    },
    {
     "data": {
      "text/html": [
       "<table class=\"simpletable\">\n",
       "<caption>Constant Mean - GARCH Model Results</caption>\n",
       "<tr>\n",
       "  <th>Dep. Variable:</th>        <td>None</td>        <th>  R-squared:         </th>  <td>   0.000</td> \n",
       "</tr>\n",
       "<tr>\n",
       "  <th>Mean Model:</th>       <td>Constant Mean</td>   <th>  Adj. R-squared:    </th>  <td>   0.000</td> \n",
       "</tr>\n",
       "<tr>\n",
       "  <th>Vol Model:</th>            <td>GARCH</td>       <th>  Log-Likelihood:    </th> <td>  -363.404</td>\n",
       "</tr>\n",
       "<tr>\n",
       "  <th>Distribution:</th>        <td>Normal</td>       <th>  AIC:               </th> <td>   750.808</td>\n",
       "</tr>\n",
       "<tr>\n",
       "  <th>Method:</th>        <td>Maximum Likelihood</td> <th>  BIC:               </th> <td>   769.124</td>\n",
       "</tr>\n",
       "<tr>\n",
       "  <th></th>                        <td></td>          <th>  No. Observations:  </th>     <td>34</td>    \n",
       "</tr>\n",
       "<tr>\n",
       "  <th>Date:</th>           <td>Sat, Jun 18 2022</td>  <th>  Df Residuals:      </th>     <td>33</td>    \n",
       "</tr>\n",
       "<tr>\n",
       "  <th>Time:</th>               <td>15:13:52</td>      <th>  Df Model:          </th>      <td>1</td>    \n",
       "</tr>\n",
       "</table>\n",
       "<table class=\"simpletable\">\n",
       "<caption>Mean Model</caption>\n",
       "<tr>\n",
       "   <td></td>     <th>coef</th>     <th>std err</th>      <th>t</th>       <th>P>|t|</th>      <th>95.0% Conf. Int.</th>   \n",
       "</tr>\n",
       "<tr>\n",
       "  <th>mu</th> <td> 2147.2541</td> <td> 1236.205</td> <td>    1.737</td> <td>8.239e-02</td> <td>[-2.757e+02,4.570e+03]</td>\n",
       "</tr>\n",
       "</table>\n",
       "<table class=\"simpletable\">\n",
       "<caption>Volatility Model</caption>\n",
       "<tr>\n",
       "      <td></td>        <th>coef</th>     <th>std err</th>      <th>t</th>       <th>P>|t|</th>      <th>95.0% Conf. Int.</th>   \n",
       "</tr>\n",
       "<tr>\n",
       "  <th>omega</th>    <td>7.6915e+07</td> <td>5.280e+07</td> <td>    1.457</td> <td>    0.145</td> <td>[-2.656e+07,1.804e+08]</td>\n",
       "</tr>\n",
       "<tr>\n",
       "  <th>alpha[1]</th> <td>    0.5185</td> <td>    0.394</td> <td>    1.315</td> <td>    0.188</td>    <td>[ -0.254,  1.291]</td>  \n",
       "</tr>\n",
       "<tr>\n",
       "  <th>alpha[2]</th> <td>1.3648e-12</td> <td>    0.269</td> <td>5.066e-12</td> <td>    1.000</td>    <td>[ -0.528,  0.528]</td>  \n",
       "</tr>\n",
       "<tr>\n",
       "  <th>alpha[3]</th> <td>6.7287e-13</td> <td>    0.320</td> <td>2.100e-12</td> <td>    1.000</td>    <td>[ -0.628,  0.628]</td>  \n",
       "</tr>\n",
       "<tr>\n",
       "  <th>alpha[4]</th> <td>1.9934e-12</td> <td>    0.316</td> <td>6.310e-12</td> <td>    1.000</td>    <td>[ -0.619,  0.619]</td>  \n",
       "</tr>\n",
       "<tr>\n",
       "  <th>alpha[5]</th> <td>2.6414e-12</td> <td>    0.273</td> <td>9.675e-12</td> <td>    1.000</td>    <td>[ -0.535,  0.535]</td>  \n",
       "</tr>\n",
       "<tr>\n",
       "  <th>alpha[6]</th> <td>2.5506e-12</td> <td>    0.351</td> <td>7.271e-12</td> <td>    1.000</td>    <td>[ -0.688,  0.688]</td>  \n",
       "</tr>\n",
       "<tr>\n",
       "  <th>alpha[7]</th> <td>2.7222e-12</td> <td>    0.273</td> <td>9.958e-12</td> <td>    1.000</td>    <td>[ -0.536,  0.536]</td>  \n",
       "</tr>\n",
       "<tr>\n",
       "  <th>alpha[8]</th> <td>1.9752e-12</td> <td>    0.227</td> <td>8.691e-12</td> <td>    1.000</td>    <td>[ -0.445,  0.445]</td>  \n",
       "</tr>\n",
       "<tr>\n",
       "  <th>alpha[9]</th> <td>2.9807e-12</td> <td>    0.133</td> <td>2.239e-11</td> <td>    1.000</td>    <td>[ -0.261,  0.261]</td>  \n",
       "</tr>\n",
       "<tr>\n",
       "  <th>beta[1]</th>  <td>1.2575e-12</td> <td>    0.434</td> <td>2.894e-12</td> <td>    1.000</td>    <td>[ -0.852,  0.852]</td>  \n",
       "</tr>\n",
       "</table><br/><br/>Covariance estimator: robust"
      ],
      "text/plain": [
       "<class 'statsmodels.iolib.summary.Summary'>\n",
       "\"\"\"\n",
       "                     Constant Mean - GARCH Model Results                      \n",
       "==============================================================================\n",
       "Dep. Variable:                   None   R-squared:                       0.000\n",
       "Mean Model:             Constant Mean   Adj. R-squared:                  0.000\n",
       "Vol Model:                      GARCH   Log-Likelihood:               -363.404\n",
       "Distribution:                  Normal   AIC:                           750.808\n",
       "Method:            Maximum Likelihood   BIC:                           769.124\n",
       "                                        No. Observations:                   34\n",
       "Date:                Sat, Jun 18 2022   Df Residuals:                       33\n",
       "Time:                        15:13:52   Df Model:                            1\n",
       "                                  Mean Model                                 \n",
       "=============================================================================\n",
       "                 coef    std err          t      P>|t|       95.0% Conf. Int.\n",
       "-----------------------------------------------------------------------------\n",
       "mu          2147.2541   1236.205      1.737  8.239e-02 [-2.757e+02,4.570e+03]\n",
       "                               Volatility Model                              \n",
       "=============================================================================\n",
       "                 coef    std err          t      P>|t|       95.0% Conf. Int.\n",
       "-----------------------------------------------------------------------------\n",
       "omega      7.6915e+07  5.280e+07      1.457      0.145 [-2.656e+07,1.804e+08]\n",
       "alpha[1]       0.5185      0.394      1.315      0.188      [ -0.254,  1.291]\n",
       "alpha[2]   1.3648e-12      0.269  5.066e-12      1.000      [ -0.528,  0.528]\n",
       "alpha[3]   6.7287e-13      0.320  2.100e-12      1.000      [ -0.628,  0.628]\n",
       "alpha[4]   1.9934e-12      0.316  6.310e-12      1.000      [ -0.619,  0.619]\n",
       "alpha[5]   2.6414e-12      0.273  9.675e-12      1.000      [ -0.535,  0.535]\n",
       "alpha[6]   2.5506e-12      0.351  7.271e-12      1.000      [ -0.688,  0.688]\n",
       "alpha[7]   2.7222e-12      0.273  9.958e-12      1.000      [ -0.536,  0.536]\n",
       "alpha[8]   1.9752e-12      0.227  8.691e-12      1.000      [ -0.445,  0.445]\n",
       "alpha[9]   2.9807e-12      0.133  2.239e-11      1.000      [ -0.261,  0.261]\n",
       "beta[1]    1.2575e-12      0.434  2.894e-12      1.000      [ -0.852,  0.852]\n",
       "=============================================================================\n",
       "\n",
       "Covariance estimator: robust\n",
       "\"\"\""
      ]
     },
     "execution_count": 19,
     "metadata": {},
     "output_type": "execute_result"
    }
   ],
   "source": [
    "garch_91  = arch_model(resid, p=9, q=1)\n",
    "garch_91_fit = garch_91.fit()\n",
    "garch_91_fit.summary()"
   ]
  },
  {
   "cell_type": "markdown",
   "id": "8a47885c",
   "metadata": {
    "papermill": {
     "duration": 0.03325,
     "end_time": "2022-06-18T15:13:52.602635",
     "exception": false,
     "start_time": "2022-06-18T15:13:52.569385",
     "status": "completed"
    },
    "tags": []
   },
   "source": [
    "GARCH(1, 1) produces the lowest AIC score relative to the other GARCH models. however, it is worth noting the mu and beta1 is not statistically different from 0 since p-value is greater than 0.05."
   ]
  },
  {
   "cell_type": "code",
   "execution_count": 20,
   "id": "6c2066cf",
   "metadata": {
    "execution": {
     "iopub.execute_input": "2022-06-18T15:13:52.645832Z",
     "iopub.status.busy": "2022-06-18T15:13:52.645412Z",
     "iopub.status.idle": "2022-06-18T15:13:52.681314Z",
     "shell.execute_reply": "2022-06-18T15:13:52.680277Z"
    },
    "papermill": {
     "duration": 0.05812,
     "end_time": "2022-06-18T15:13:52.684620",
     "exception": false,
     "start_time": "2022-06-18T15:13:52.626500",
     "status": "completed"
    },
    "tags": []
   },
   "outputs": [
    {
     "name": "stdout",
     "output_type": "stream",
     "text": [
      "Iteration:      1,   Func. Count:      6,   Neg. LLF: 364.12667815737245\n",
      "Iteration:      2,   Func. Count:     11,   Neg. LLF: 363.59692205898295\n",
      "Iteration:      3,   Func. Count:     16,   Neg. LLF: 366.33902579408056\n",
      "Iteration:      4,   Func. Count:     22,   Neg. LLF: 363.4571063086095\n",
      "Iteration:      5,   Func. Count:     27,   Neg. LLF: 363.40885955366326\n",
      "Iteration:      6,   Func. Count:     32,   Neg. LLF: 363.40407831491035\n",
      "Iteration:      7,   Func. Count:     37,   Neg. LLF: 363.4038287311494\n",
      "Iteration:      8,   Func. Count:     42,   Neg. LLF: 363.4038271338114\n",
      "Iteration:      9,   Func. Count:     46,   Neg. LLF: 363.4038272304475\n",
      "Optimization terminated successfully    (Exit mode 0)\n",
      "            Current function value: 363.4038271338114\n",
      "            Iterations: 9\n",
      "            Function evaluations: 46\n",
      "            Gradient evaluations: 9\n"
     ]
    },
    {
     "name": "stderr",
     "output_type": "stream",
     "text": [
      "/opt/conda/lib/python3.7/site-packages/arch/univariate/base.py:310: DataScaleWarning: y is poorly scaled, which may affect convergence of the optimizer when\n",
      "estimating the model parameters. The scale of y is 1.538e+08. Parameter\n",
      "estimation work better when this value is between 1 and 1000. The recommended\n",
      "rescaling is 0.001 * y.\n",
      "\n",
      "This warning can be disabled by either rescaling y before initializing the\n",
      "model or by setting rescale=False.\n",
      "\n",
      "  data_scale_warning.format(orig_scale, rescale), DataScaleWarning\n"
     ]
    },
    {
     "data": {
      "text/html": [
       "<table class=\"simpletable\">\n",
       "<caption>Constant Mean - GARCH Model Results</caption>\n",
       "<tr>\n",
       "  <th>Dep. Variable:</th>           <td>None</td>            <th>  R-squared:         </th>     <td>--</td>    \n",
       "</tr>\n",
       "<tr>\n",
       "  <th>Mean Model:</th>          <td>Constant Mean</td>       <th>  Adj. R-squared:    </th>     <td>--</td>    \n",
       "</tr>\n",
       "<tr>\n",
       "  <th>Vol Model:</th>               <td>GARCH</td>           <th>  Log-Likelihood:    </th> <td>  -364.541</td>\n",
       "</tr>\n",
       "<tr>\n",
       "  <th>Distribution:</th>           <td>Normal</td>           <th>  AIC:               </th> <td>   737.081</td>\n",
       "</tr>\n",
       "<tr>\n",
       "  <th>Method:</th>        <td>User-specified Parameters</td> <th>  BIC:               </th> <td>   743.187</td>\n",
       "</tr>\n",
       "<tr>\n",
       "  <th></th>                           <td></td>              <th>  No. Observations:  </th>     <td>34</td>    \n",
       "</tr>\n",
       "<tr>\n",
       "  <th>Date:</th>              <td>Sat, Jun 18 2022</td>      <th>                     </th>      <td></td>     \n",
       "</tr>\n",
       "<tr>\n",
       "  <th>Time:</th>                  <td>15:13:52</td>          <th>                     </th>      <td></td>     \n",
       "</tr>\n",
       "</table>\n",
       "<table class=\"simpletable\">\n",
       "<caption>Mean Model</caption>\n",
       "<tr>\n",
       "   <td></td>   <th>coef</th> \n",
       "</tr>\n",
       "<tr>\n",
       "  <th>mu</th> <td>0.0000</td>\n",
       "</tr>\n",
       "</table>\n",
       "<table class=\"simpletable\">\n",
       "<caption>Volatility Model</caption>\n",
       "<tr>\n",
       "      <td></td>        <th>coef</th>   \n",
       "</tr>\n",
       "<tr>\n",
       "  <th>omega</th>    <td>7.6915e+07</td>\n",
       "</tr>\n",
       "<tr>\n",
       "  <th>alpha[1]</th> <td>    0.5182</td>\n",
       "</tr>\n",
       "<tr>\n",
       "  <th>beta[1]</th>    <td>0.0000</td>  \n",
       "</tr>\n",
       "</table><br/><br/>Results generated with user-specified parameters.<br/>Std. errors not available when the model is not estimated, "
      ],
      "text/plain": [
       "<class 'statsmodels.iolib.summary.Summary'>\n",
       "\"\"\"\n",
       "                         Constant Mean - GARCH Model Results                         \n",
       "=====================================================================================\n",
       "Dep. Variable:                          None   R-squared:                          --\n",
       "Mean Model:                    Constant Mean   Adj. R-squared:                     --\n",
       "Vol Model:                             GARCH   Log-Likelihood:               -364.541\n",
       "Distribution:                         Normal   AIC:                           737.081\n",
       "Method:            User-specified Parameters   BIC:                           743.187\n",
       "                                               No. Observations:                   34\n",
       "Date:                       Sat, Jun 18 2022                                         \n",
       "Time:                               15:13:52                                         \n",
       "      Mean Model     \n",
       "=====================\n",
       "                 coef\n",
       "---------------------\n",
       "mu             0.0000\n",
       "   Volatility Model  \n",
       "=====================\n",
       "                 coef\n",
       "---------------------\n",
       "omega      7.6915e+07\n",
       "alpha[1]       0.5182\n",
       "beta[1]        0.0000\n",
       "=====================\n",
       "\n",
       "Results generated with user-specified parameters.\n",
       "Std. errors not available when the model is not estimated, \n",
       "\"\"\""
      ]
     },
     "execution_count": 20,
     "metadata": {},
     "output_type": "execute_result"
    }
   ],
   "source": [
    "garch_11_fix  = arch_model(resid, p=1, q=1)\n",
    "garch_11_fix_fit = garch_11_fix.fit()\n",
    "garch_11_fix_fit.params[['beta[1]', 'mu']] = 0\n",
    "garch_11_fix_fit = garch_11_fix.fix(garch_11_fix_fit.params)\n",
    "garch_11_fix_fit.summary()"
   ]
  },
  {
   "cell_type": "markdown",
   "id": "232326f7",
   "metadata": {
    "papermill": {
     "duration": 0.017525,
     "end_time": "2022-06-18T15:13:52.720096",
     "exception": false,
     "start_time": "2022-06-18T15:13:52.702571",
     "status": "completed"
    },
    "tags": []
   },
   "source": [
    "fixing the GARCH(1, 1) parameters of beta1 and mu result in higher AIC and BIC compared to the original"
   ]
  },
  {
   "cell_type": "markdown",
   "id": "50b9a871",
   "metadata": {
    "papermill": {
     "duration": 0.017593,
     "end_time": "2022-06-18T15:13:52.755920",
     "exception": false,
     "start_time": "2022-06-18T15:13:52.738327",
     "status": "completed"
    },
    "tags": []
   },
   "source": [
    "### GARCH with different distribution"
   ]
  },
  {
   "cell_type": "code",
   "execution_count": 21,
   "id": "d9b05a25",
   "metadata": {
    "execution": {
     "iopub.execute_input": "2022-06-18T15:13:52.795191Z",
     "iopub.status.busy": "2022-06-18T15:13:52.794767Z",
     "iopub.status.idle": "2022-06-18T15:13:52.853337Z",
     "shell.execute_reply": "2022-06-18T15:13:52.852084Z"
    },
    "papermill": {
     "duration": 0.082906,
     "end_time": "2022-06-18T15:13:52.857538",
     "exception": false,
     "start_time": "2022-06-18T15:13:52.774632",
     "status": "completed"
    },
    "tags": []
   },
   "outputs": [
    {
     "name": "stdout",
     "output_type": "stream",
     "text": [
      "Iteration:      1,   Func. Count:      6,   Neg. LLF: 364.12667815737245\n",
      "Iteration:      2,   Func. Count:     11,   Neg. LLF: 363.59692205898295\n",
      "Iteration:      3,   Func. Count:     16,   Neg. LLF: 366.33902579408056\n",
      "Iteration:      4,   Func. Count:     22,   Neg. LLF: 363.4571063086095\n",
      "Iteration:      5,   Func. Count:     27,   Neg. LLF: 363.40885955366326\n",
      "Iteration:      6,   Func. Count:     32,   Neg. LLF: 363.40407831491035\n",
      "Iteration:      7,   Func. Count:     37,   Neg. LLF: 363.4038287311494\n",
      "Iteration:      8,   Func. Count:     42,   Neg. LLF: 363.4038271338114\n",
      "Iteration:      9,   Func. Count:     46,   Neg. LLF: 363.4038272304475\n",
      "Optimization terminated successfully    (Exit mode 0)\n",
      "            Current function value: 363.4038271338114\n",
      "            Iterations: 9\n",
      "            Function evaluations: 46\n",
      "            Gradient evaluations: 9\n"
     ]
    },
    {
     "name": "stderr",
     "output_type": "stream",
     "text": [
      "/opt/conda/lib/python3.7/site-packages/arch/univariate/base.py:310: DataScaleWarning: y is poorly scaled, which may affect convergence of the optimizer when\n",
      "estimating the model parameters. The scale of y is 1.538e+08. Parameter\n",
      "estimation work better when this value is between 1 and 1000. The recommended\n",
      "rescaling is 0.001 * y.\n",
      "\n",
      "This warning can be disabled by either rescaling y before initializing the\n",
      "model or by setting rescale=False.\n",
      "\n",
      "  data_scale_warning.format(orig_scale, rescale), DataScaleWarning\n"
     ]
    },
    {
     "data": {
      "text/html": [
       "<table class=\"simpletable\">\n",
       "<caption>Constant Mean - GARCH Model Results</caption>\n",
       "<tr>\n",
       "  <th>Dep. Variable:</th>        <td>None</td>        <th>  R-squared:         </th>  <td>   0.000</td> \n",
       "</tr>\n",
       "<tr>\n",
       "  <th>Mean Model:</th>       <td>Constant Mean</td>   <th>  Adj. R-squared:    </th>  <td>   0.000</td> \n",
       "</tr>\n",
       "<tr>\n",
       "  <th>Vol Model:</th>            <td>GARCH</td>       <th>  Log-Likelihood:    </th> <td>  -363.404</td>\n",
       "</tr>\n",
       "<tr>\n",
       "  <th>Distribution:</th>        <td>Normal</td>       <th>  AIC:               </th> <td>   734.808</td>\n",
       "</tr>\n",
       "<tr>\n",
       "  <th>Method:</th>        <td>Maximum Likelihood</td> <th>  BIC:               </th> <td>   740.913</td>\n",
       "</tr>\n",
       "<tr>\n",
       "  <th></th>                        <td></td>          <th>  No. Observations:  </th>     <td>34</td>    \n",
       "</tr>\n",
       "<tr>\n",
       "  <th>Date:</th>           <td>Sat, Jun 18 2022</td>  <th>  Df Residuals:      </th>     <td>33</td>    \n",
       "</tr>\n",
       "<tr>\n",
       "  <th>Time:</th>               <td>15:13:52</td>      <th>  Df Model:          </th>      <td>1</td>    \n",
       "</tr>\n",
       "</table>\n",
       "<table class=\"simpletable\">\n",
       "<caption>Mean Model</caption>\n",
       "<tr>\n",
       "   <td></td>     <th>coef</th>     <th>std err</th>      <th>t</th>       <th>P>|t|</th>      <th>95.0% Conf. Int.</th>   \n",
       "</tr>\n",
       "<tr>\n",
       "  <th>mu</th> <td> 2147.2538</td> <td> 1241.103</td> <td>    1.730</td> <td>8.361e-02</td> <td>[-2.853e+02,4.580e+03]</td>\n",
       "</tr>\n",
       "</table>\n",
       "<table class=\"simpletable\">\n",
       "<caption>Volatility Model</caption>\n",
       "<tr>\n",
       "      <td></td>        <th>coef</th>     <th>std err</th>      <th>t</th>       <th>P>|t|</th>      <th>95.0% Conf. Int.</th>   \n",
       "</tr>\n",
       "<tr>\n",
       "  <th>omega</th>    <td>7.6915e+07</td> <td>5.185e+07</td> <td>    1.483</td> <td>    0.138</td> <td>[-2.471e+07,1.785e+08]</td>\n",
       "</tr>\n",
       "<tr>\n",
       "  <th>alpha[1]</th> <td>    0.5182</td> <td>    0.230</td> <td>    2.250</td> <td>2.448e-02</td>   <td>[6.671e-02,  0.970]</td> \n",
       "</tr>\n",
       "<tr>\n",
       "  <th>beta[1]</th>  <td>5.7304e-13</td> <td>    0.468</td> <td>1.225e-12</td> <td>    1.000</td>    <td>[ -0.917,  0.917]</td>  \n",
       "</tr>\n",
       "</table><br/><br/>Covariance estimator: robust"
      ],
      "text/plain": [
       "<class 'statsmodels.iolib.summary.Summary'>\n",
       "\"\"\"\n",
       "                     Constant Mean - GARCH Model Results                      \n",
       "==============================================================================\n",
       "Dep. Variable:                   None   R-squared:                       0.000\n",
       "Mean Model:             Constant Mean   Adj. R-squared:                  0.000\n",
       "Vol Model:                      GARCH   Log-Likelihood:               -363.404\n",
       "Distribution:                  Normal   AIC:                           734.808\n",
       "Method:            Maximum Likelihood   BIC:                           740.913\n",
       "                                        No. Observations:                   34\n",
       "Date:                Sat, Jun 18 2022   Df Residuals:                       33\n",
       "Time:                        15:13:52   Df Model:                            1\n",
       "                                  Mean Model                                 \n",
       "=============================================================================\n",
       "                 coef    std err          t      P>|t|       95.0% Conf. Int.\n",
       "-----------------------------------------------------------------------------\n",
       "mu          2147.2538   1241.103      1.730  8.361e-02 [-2.853e+02,4.580e+03]\n",
       "                               Volatility Model                              \n",
       "=============================================================================\n",
       "                 coef    std err          t      P>|t|       95.0% Conf. Int.\n",
       "-----------------------------------------------------------------------------\n",
       "omega      7.6915e+07  5.185e+07      1.483      0.138 [-2.471e+07,1.785e+08]\n",
       "alpha[1]       0.5182      0.230      2.250  2.448e-02    [6.671e-02,  0.970]\n",
       "beta[1]    5.7304e-13      0.468  1.225e-12      1.000      [ -0.917,  0.917]\n",
       "=============================================================================\n",
       "\n",
       "Covariance estimator: robust\n",
       "\"\"\""
      ]
     },
     "execution_count": 21,
     "metadata": {},
     "output_type": "execute_result"
    }
   ],
   "source": [
    "garch_11  = arch_model(resid, p=1, q=1)\n",
    "garch_11_fit = garch_11.fit()\n",
    "garch_11_fit.summary()"
   ]
  },
  {
   "cell_type": "code",
   "execution_count": 22,
   "id": "6df7597d",
   "metadata": {
    "execution": {
     "iopub.execute_input": "2022-06-18T15:13:52.928530Z",
     "iopub.status.busy": "2022-06-18T15:13:52.927879Z",
     "iopub.status.idle": "2022-06-18T15:13:53.029077Z",
     "shell.execute_reply": "2022-06-18T15:13:53.027983Z"
    },
    "papermill": {
     "duration": 0.140676,
     "end_time": "2022-06-18T15:13:53.032599",
     "exception": false,
     "start_time": "2022-06-18T15:13:52.891923",
     "status": "completed"
    },
    "tags": []
   },
   "outputs": [
    {
     "name": "stdout",
     "output_type": "stream",
     "text": [
      "Iteration:      1,   Func. Count:      7,   Neg. LLF: 363.32712718356385\n",
      "Iteration:      2,   Func. Count:     13,   Neg. LLF: 362.84822926492785\n",
      "Iteration:      3,   Func. Count:     19,   Neg. LLF: 363.87764507201507\n",
      "Iteration:      4,   Func. Count:     26,   Neg. LLF: 362.71899162754664\n",
      "Iteration:      5,   Func. Count:     32,   Neg. LLF: 362.7029751619114\n",
      "Iteration:      6,   Func. Count:     38,   Neg. LLF: 362.69814250963975\n",
      "Iteration:      7,   Func. Count:     44,   Neg. LLF: 362.67065031504615\n",
      "Iteration:      8,   Func. Count:     50,   Neg. LLF: 362.478837683493\n",
      "Iteration:      9,   Func. Count:     56,   Neg. LLF: 386.92776036826564\n",
      "Iteration:     10,   Func. Count:     63,   Neg. LLF: 386.7192169723687\n",
      "Iteration:     11,   Func. Count:     70,   Neg. LLF: 386.4411419751927\n",
      "Iteration:     12,   Func. Count:     77,   Neg. LLF: 384.87835095469006\n",
      "Iteration:     13,   Func. Count:     84,   Neg. LLF: 385.8647785875259\n",
      "Iteration:     14,   Func. Count:     91,   Neg. LLF: 366.6661211220986\n",
      "Iteration:     15,   Func. Count:     98,   Neg. LLF: 362.32343431768345\n",
      "Iteration:     16,   Func. Count:    105,   Neg. LLF: 362.26175765242147\n",
      "Iteration:     17,   Func. Count:    111,   Neg. LLF: 362.2617720737788\n",
      "Iteration:     18,   Func. Count:    118,   Neg. LLF: 362.26166615816794\n",
      "Iteration:     19,   Func. Count:    123,   Neg. LLF: 362.261666158168\n",
      "Optimization terminated successfully    (Exit mode 0)\n",
      "            Current function value: 362.26166615816794\n",
      "            Iterations: 19\n",
      "            Function evaluations: 123\n",
      "            Gradient evaluations: 19\n"
     ]
    },
    {
     "name": "stderr",
     "output_type": "stream",
     "text": [
      "/opt/conda/lib/python3.7/site-packages/arch/univariate/base.py:310: DataScaleWarning: y is poorly scaled, which may affect convergence of the optimizer when\n",
      "estimating the model parameters. The scale of y is 1.538e+08. Parameter\n",
      "estimation work better when this value is between 1 and 1000. The recommended\n",
      "rescaling is 0.001 * y.\n",
      "\n",
      "This warning can be disabled by either rescaling y before initializing the\n",
      "model or by setting rescale=False.\n",
      "\n",
      "  data_scale_warning.format(orig_scale, rescale), DataScaleWarning\n"
     ]
    },
    {
     "data": {
      "text/html": [
       "<table class=\"simpletable\">\n",
       "<caption>Constant Mean - GARCH Model Results</caption>\n",
       "<tr>\n",
       "  <th>Dep. Variable:</th>           <td>None</td>           <th>  R-squared:         </th>  <td>   0.000</td> \n",
       "</tr>\n",
       "<tr>\n",
       "  <th>Mean Model:</th>          <td>Constant Mean</td>      <th>  Adj. R-squared:    </th>  <td>   0.000</td> \n",
       "</tr>\n",
       "<tr>\n",
       "  <th>Vol Model:</th>               <td>GARCH</td>          <th>  Log-Likelihood:    </th> <td>  -362.262</td>\n",
       "</tr>\n",
       "<tr>\n",
       "  <th>Distribution:</th>  <td>Standardized Student's t</td> <th>  AIC:               </th> <td>   734.523</td>\n",
       "</tr>\n",
       "<tr>\n",
       "  <th>Method:</th>           <td>Maximum Likelihood</td>    <th>  BIC:               </th> <td>   742.155</td>\n",
       "</tr>\n",
       "<tr>\n",
       "  <th></th>                           <td></td>             <th>  No. Observations:  </th>     <td>34</td>    \n",
       "</tr>\n",
       "<tr>\n",
       "  <th>Date:</th>              <td>Sat, Jun 18 2022</td>     <th>  Df Residuals:      </th>     <td>33</td>    \n",
       "</tr>\n",
       "<tr>\n",
       "  <th>Time:</th>                  <td>15:13:52</td>         <th>  Df Model:          </th>      <td>1</td>    \n",
       "</tr>\n",
       "</table>\n",
       "<table class=\"simpletable\">\n",
       "<caption>Mean Model</caption>\n",
       "<tr>\n",
       "   <td></td>     <th>coef</th>     <th>std err</th>      <th>t</th>       <th>P>|t|</th>    <th>95.0% Conf. Int.</th>  \n",
       "</tr>\n",
       "<tr>\n",
       "  <th>mu</th> <td> 2147.2597</td> <td> 1105.910</td> <td>    1.942</td> <td>5.218e-02</td> <td>[-20.284,4.315e+03]</td>\n",
       "</tr>\n",
       "</table>\n",
       "<table class=\"simpletable\">\n",
       "<caption>Volatility Model</caption>\n",
       "<tr>\n",
       "      <td></td>        <th>coef</th>     <th>std err</th>      <th>t</th>       <th>P>|t|</th>      <th>95.0% Conf. Int.</th>   \n",
       "</tr>\n",
       "<tr>\n",
       "  <th>omega</th>    <td>7.6915e+07</td> <td>6.780e+07</td> <td>    1.134</td> <td>    0.257</td> <td>[-5.597e+07,2.098e+08]</td>\n",
       "</tr>\n",
       "<tr>\n",
       "  <th>alpha[1]</th> <td>    0.7197</td> <td>    0.642</td> <td>    1.122</td> <td>    0.262</td>    <td>[ -0.538,  1.977]</td>  \n",
       "</tr>\n",
       "<tr>\n",
       "  <th>beta[1]</th>    <td>0.0000</td>   <td>    0.461</td>   <td>0.000</td>   <td>    1.000</td>    <td>[ -0.904,  0.904]</td>  \n",
       "</tr>\n",
       "</table>\n",
       "<table class=\"simpletable\">\n",
       "<caption>Distribution</caption>\n",
       "<tr>\n",
       "   <td></td>     <th>coef</th>     <th>std err</th>      <th>t</th>       <th>P>|t|</th>   <th>95.0% Conf. Int.</th> \n",
       "</tr>\n",
       "<tr>\n",
       "  <th>nu</th> <td>    3.5698</td> <td>    3.446</td> <td>    1.036</td> <td>    0.300</td> <td>[ -3.184, 10.324]</td>\n",
       "</tr>\n",
       "</table><br/><br/>Covariance estimator: robust"
      ],
      "text/plain": [
       "<class 'statsmodels.iolib.summary.Summary'>\n",
       "\"\"\"\n",
       "                        Constant Mean - GARCH Model Results                         \n",
       "====================================================================================\n",
       "Dep. Variable:                         None   R-squared:                       0.000\n",
       "Mean Model:                   Constant Mean   Adj. R-squared:                  0.000\n",
       "Vol Model:                            GARCH   Log-Likelihood:               -362.262\n",
       "Distribution:      Standardized Student's t   AIC:                           734.523\n",
       "Method:                  Maximum Likelihood   BIC:                           742.155\n",
       "                                              No. Observations:                   34\n",
       "Date:                      Sat, Jun 18 2022   Df Residuals:                       33\n",
       "Time:                              15:13:52   Df Model:                            1\n",
       "                                Mean Model                                \n",
       "==========================================================================\n",
       "                 coef    std err          t      P>|t|    95.0% Conf. Int.\n",
       "--------------------------------------------------------------------------\n",
       "mu          2147.2597   1105.910      1.942  5.218e-02 [-20.284,4.315e+03]\n",
       "                               Volatility Model                              \n",
       "=============================================================================\n",
       "                 coef    std err          t      P>|t|       95.0% Conf. Int.\n",
       "-----------------------------------------------------------------------------\n",
       "omega      7.6915e+07  6.780e+07      1.134      0.257 [-5.597e+07,2.098e+08]\n",
       "alpha[1]       0.7197      0.642      1.122      0.262      [ -0.538,  1.977]\n",
       "beta[1]        0.0000      0.461      0.000      1.000      [ -0.904,  0.904]\n",
       "                              Distribution                              \n",
       "========================================================================\n",
       "                 coef    std err          t      P>|t|  95.0% Conf. Int.\n",
       "------------------------------------------------------------------------\n",
       "nu             3.5698      3.446      1.036      0.300 [ -3.184, 10.324]\n",
       "========================================================================\n",
       "\n",
       "Covariance estimator: robust\n",
       "\"\"\""
      ]
     },
     "execution_count": 22,
     "metadata": {},
     "output_type": "execute_result"
    }
   ],
   "source": [
    "garch_11_std  = arch_model(resid, p=1, q=1, dist='studentst')\n",
    "garch_11_fit_std = garch_11_std.fit()\n",
    "garch_11_fit_std.summary()"
   ]
  },
  {
   "cell_type": "code",
   "execution_count": 23,
   "id": "03b46873",
   "metadata": {
    "execution": {
     "iopub.execute_input": "2022-06-18T15:13:53.108768Z",
     "iopub.status.busy": "2022-06-18T15:13:53.108140Z",
     "iopub.status.idle": "2022-06-18T15:13:53.239146Z",
     "shell.execute_reply": "2022-06-18T15:13:53.237756Z"
    },
    "papermill": {
     "duration": 0.172916,
     "end_time": "2022-06-18T15:13:53.243434",
     "exception": false,
     "start_time": "2022-06-18T15:13:53.070518",
     "status": "completed"
    },
    "tags": []
   },
   "outputs": [
    {
     "name": "stderr",
     "output_type": "stream",
     "text": [
      "/opt/conda/lib/python3.7/site-packages/arch/univariate/base.py:310: DataScaleWarning: y is poorly scaled, which may affect convergence of the optimizer when\n",
      "estimating the model parameters. The scale of y is 1.538e+08. Parameter\n",
      "estimation work better when this value is between 1 and 1000. The recommended\n",
      "rescaling is 0.001 * y.\n",
      "\n",
      "This warning can be disabled by either rescaling y before initializing the\n",
      "model or by setting rescale=False.\n",
      "\n",
      "  data_scale_warning.format(orig_scale, rescale), DataScaleWarning\n"
     ]
    },
    {
     "name": "stdout",
     "output_type": "stream",
     "text": [
      "Iteration:      1,   Func. Count:      8,   Neg. LLF: 468.91714459247356\n",
      "Iteration:      2,   Func. Count:     16,   Neg. LLF: 380.3458026206418\n",
      "Iteration:      3,   Func. Count:     24,   Neg. LLF: 361.9608375135773\n",
      "Iteration:      4,   Func. Count:     31,   Neg. LLF: 361.9477520702671\n",
      "Iteration:      5,   Func. Count:     38,   Neg. LLF: 361.94485011607105\n",
      "Iteration:      6,   Func. Count:     45,   Neg. LLF: 361.93971012070307\n",
      "Iteration:      7,   Func. Count:     52,   Neg. LLF: 361.9355638067382\n",
      "Iteration:      8,   Func. Count:     59,   Neg. LLF: 361.9041138002084\n",
      "Iteration:      9,   Func. Count:     66,   Neg. LLF: 391.11644209760374\n",
      "Iteration:     10,   Func. Count:     74,   Neg. LLF: 390.44948929111933\n",
      "Iteration:     11,   Func. Count:     82,   Neg. LLF: 389.99581000328044\n",
      "Iteration:     12,   Func. Count:     90,   Neg. LLF: 389.5572398310363\n",
      "Iteration:     13,   Func. Count:     98,   Neg. LLF: 389.11618998357915\n",
      "Iteration:     14,   Func. Count:    106,   Neg. LLF: 362.4739473537997\n",
      "Iteration:     15,   Func. Count:    114,   Neg. LLF: 361.88910554644747\n",
      "Iteration:     16,   Func. Count:    122,   Neg. LLF: 361.74665366570923\n",
      "Iteration:     17,   Func. Count:    129,   Neg. LLF: 361.66636146883815\n",
      "Iteration:     18,   Func. Count:    136,   Neg. LLF: 361.6133373838647\n",
      "Iteration:     19,   Func. Count:    143,   Neg. LLF: 361.600832468583\n",
      "Iteration:     20,   Func. Count:    150,   Neg. LLF: 361.59921079829996\n",
      "Iteration:     21,   Func. Count:    157,   Neg. LLF: 361.5990431349523\n",
      "Iteration:     22,   Func. Count:    164,   Neg. LLF: 361.5989754636161\n",
      "Iteration:     23,   Func. Count:    170,   Neg. LLF: 361.59897546365903\n",
      "Optimization terminated successfully    (Exit mode 0)\n",
      "            Current function value: 361.5989754636161\n",
      "            Iterations: 23\n",
      "            Function evaluations: 170\n",
      "            Gradient evaluations: 23\n"
     ]
    },
    {
     "data": {
      "text/html": [
       "<table class=\"simpletable\">\n",
       "<caption>Constant Mean - GARCH Model Results</caption>\n",
       "<tr>\n",
       "  <th>Dep. Variable:</th>             <td>None</td>              <th>  R-squared:         </th>  <td>   0.000</td> \n",
       "</tr>\n",
       "<tr>\n",
       "  <th>Mean Model:</th>            <td>Constant Mean</td>         <th>  Adj. R-squared:    </th>  <td>   0.000</td> \n",
       "</tr>\n",
       "<tr>\n",
       "  <th>Vol Model:</th>                 <td>GARCH</td>             <th>  Log-Likelihood:    </th> <td>  -361.599</td>\n",
       "</tr>\n",
       "<tr>\n",
       "  <th>Distribution:</th>  <td>Standardized Skew Student's t</td> <th>  AIC:               </th> <td>   735.198</td>\n",
       "</tr>\n",
       "<tr>\n",
       "  <th>Method:</th>             <td>Maximum Likelihood</td>       <th>  BIC:               </th> <td>   744.356</td>\n",
       "</tr>\n",
       "<tr>\n",
       "  <th></th>                             <td></td>                <th>  No. Observations:  </th>     <td>34</td>    \n",
       "</tr>\n",
       "<tr>\n",
       "  <th>Date:</th>                <td>Sat, Jun 18 2022</td>        <th>  Df Residuals:      </th>     <td>33</td>    \n",
       "</tr>\n",
       "<tr>\n",
       "  <th>Time:</th>                    <td>15:13:53</td>            <th>  Df Model:          </th>      <td>1</td>    \n",
       "</tr>\n",
       "</table>\n",
       "<table class=\"simpletable\">\n",
       "<caption>Mean Model</caption>\n",
       "<tr>\n",
       "   <td></td>     <th>coef</th>     <th>std err</th>      <th>t</th>       <th>P>|t|</th>    <th>95.0% Conf. Int.</th>  \n",
       "</tr>\n",
       "<tr>\n",
       "  <th>mu</th> <td> 2147.3425</td> <td> 1110.938</td> <td>    1.933</td> <td>5.325e-02</td> <td>[-30.056,4.325e+03]</td>\n",
       "</tr>\n",
       "</table>\n",
       "<table class=\"simpletable\">\n",
       "<caption>Volatility Model</caption>\n",
       "<tr>\n",
       "      <td></td>        <th>coef</th>     <th>std err</th>      <th>t</th>       <th>P>|t|</th>      <th>95.0% Conf. Int.</th>   \n",
       "</tr>\n",
       "<tr>\n",
       "  <th>omega</th>    <td>7.6915e+07</td> <td>9.382e+07</td> <td>    0.820</td> <td>    0.412</td> <td>[-1.070e+08,2.608e+08]</td>\n",
       "</tr>\n",
       "<tr>\n",
       "  <th>alpha[1]</th> <td>    0.7940</td> <td>    0.928</td> <td>    0.855</td> <td>    0.392</td>    <td>[ -1.026,  2.614]</td>  \n",
       "</tr>\n",
       "<tr>\n",
       "  <th>beta[1]</th>    <td>0.0000</td>   <td>    0.281</td>   <td>0.000</td>   <td>    1.000</td>    <td>[ -0.551,  0.551]</td>  \n",
       "</tr>\n",
       "</table>\n",
       "<table class=\"simpletable\">\n",
       "<caption>Distribution</caption>\n",
       "<tr>\n",
       "     <td></td>       <th>coef</th>     <th>std err</th>      <th>t</th>       <th>P>|t|</th>   <th>95.0% Conf. Int.</th> \n",
       "</tr>\n",
       "<tr>\n",
       "  <th>eta</th>    <td>    3.4208</td> <td>    3.032</td> <td>    1.128</td> <td>    0.259</td> <td>[ -2.523,  9.364]</td>\n",
       "</tr>\n",
       "<tr>\n",
       "  <th>lambda</th> <td>    0.1915</td> <td>    0.172</td> <td>    1.111</td> <td>    0.267</td> <td>[ -0.146,  0.529]</td>\n",
       "</tr>\n",
       "</table><br/><br/>Covariance estimator: robust"
      ],
      "text/plain": [
       "<class 'statsmodels.iolib.summary.Summary'>\n",
       "\"\"\"\n",
       "                           Constant Mean - GARCH Model Results                           \n",
       "=========================================================================================\n",
       "Dep. Variable:                              None   R-squared:                       0.000\n",
       "Mean Model:                        Constant Mean   Adj. R-squared:                  0.000\n",
       "Vol Model:                                 GARCH   Log-Likelihood:               -361.599\n",
       "Distribution:      Standardized Skew Student's t   AIC:                           735.198\n",
       "Method:                       Maximum Likelihood   BIC:                           744.356\n",
       "                                                   No. Observations:                   34\n",
       "Date:                           Sat, Jun 18 2022   Df Residuals:                       33\n",
       "Time:                                   15:13:53   Df Model:                            1\n",
       "                                Mean Model                                \n",
       "==========================================================================\n",
       "                 coef    std err          t      P>|t|    95.0% Conf. Int.\n",
       "--------------------------------------------------------------------------\n",
       "mu          2147.3425   1110.938      1.933  5.325e-02 [-30.056,4.325e+03]\n",
       "                               Volatility Model                              \n",
       "=============================================================================\n",
       "                 coef    std err          t      P>|t|       95.0% Conf. Int.\n",
       "-----------------------------------------------------------------------------\n",
       "omega      7.6915e+07  9.382e+07      0.820      0.412 [-1.070e+08,2.608e+08]\n",
       "alpha[1]       0.7940      0.928      0.855      0.392      [ -1.026,  2.614]\n",
       "beta[1]        0.0000      0.281      0.000      1.000      [ -0.551,  0.551]\n",
       "                              Distribution                              \n",
       "========================================================================\n",
       "                 coef    std err          t      P>|t|  95.0% Conf. Int.\n",
       "------------------------------------------------------------------------\n",
       "eta            3.4208      3.032      1.128      0.259 [ -2.523,  9.364]\n",
       "lambda         0.1915      0.172      1.111      0.267 [ -0.146,  0.529]\n",
       "========================================================================\n",
       "\n",
       "Covariance estimator: robust\n",
       "\"\"\""
      ]
     },
     "execution_count": 23,
     "metadata": {},
     "output_type": "execute_result"
    }
   ],
   "source": [
    "garch_11_skew  = arch_model(resid, p=1, q=1, dist='skewt')\n",
    "garch_11_fit_skew = garch_11_skew.fit()\n",
    "garch_11_fit_skew.summary()"
   ]
  },
  {
   "cell_type": "markdown",
   "id": "c499f0f2",
   "metadata": {
    "papermill": {
     "duration": 0.040692,
     "end_time": "2022-06-18T15:13:53.323994",
     "exception": false,
     "start_time": "2022-06-18T15:13:53.283302",
     "status": "completed"
    },
    "tags": []
   },
   "source": [
    "GARCH(1, 1) model with normal distribution produces the lowest AIC (although similar to Student's t) and BIC relative to the other distributions. "
   ]
  },
  {
   "cell_type": "markdown",
   "id": "40748e72",
   "metadata": {
    "papermill": {
     "duration": 0.019296,
     "end_time": "2022-06-18T15:13:53.365334",
     "exception": false,
     "start_time": "2022-06-18T15:13:53.346038",
     "status": "completed"
    },
    "tags": []
   },
   "source": [
    "## Forecast\n",
    "### ARIMA(2, 1) ~ GARCH(1, 1) with generalized error distribution"
   ]
  },
  {
   "cell_type": "code",
   "execution_count": 24,
   "id": "2dc68ea1",
   "metadata": {
    "execution": {
     "iopub.execute_input": "2022-06-18T15:13:53.405684Z",
     "iopub.status.busy": "2022-06-18T15:13:53.405002Z",
     "iopub.status.idle": "2022-06-18T15:13:53.417508Z",
     "shell.execute_reply": "2022-06-18T15:13:53.416568Z"
    },
    "papermill": {
     "duration": 0.035426,
     "end_time": "2022-06-18T15:13:53.420031",
     "exception": false,
     "start_time": "2022-06-18T15:13:53.384605",
     "status": "completed"
    },
    "tags": []
   },
   "outputs": [
    {
     "name": "stderr",
     "output_type": "stream",
     "text": [
      "/opt/conda/lib/python3.7/site-packages/arch/__future__/_utility.py:21: FutureWarning: \n",
      "The default for reindex is True. After September 2021 this will change to\n",
      "False. Set reindex to True or False to silence this message. Alternatively,\n",
      "you can use the import comment\n",
      "\n",
      "from arch.__future__ import reindexing\n",
      "\n",
      "to globally set reindex to True and silence this warning.\n",
      "\n",
      "  FutureWarning,\n"
     ]
    }
   ],
   "source": [
    "arima_forecast = model_21_fit.forecast().values[0]\n",
    "garch_forecast = garch_11_fit.forecast(horizon=1) \\\n",
    "    .mean['h.1'].iloc[-1]\n",
    "forecast = arima_forecast + garch_forecast"
   ]
  },
  {
   "cell_type": "code",
   "execution_count": 25,
   "id": "42e46e90",
   "metadata": {
    "execution": {
     "iopub.execute_input": "2022-06-18T15:13:53.461473Z",
     "iopub.status.busy": "2022-06-18T15:13:53.460530Z",
     "iopub.status.idle": "2022-06-18T15:13:54.175611Z",
     "shell.execute_reply": "2022-06-18T15:13:54.174284Z"
    },
    "papermill": {
     "duration": 0.738373,
     "end_time": "2022-06-18T15:13:54.178338",
     "exception": false,
     "start_time": "2022-06-18T15:13:53.439965",
     "status": "completed"
    },
    "tags": []
   },
   "outputs": [],
   "source": [
    "submission = df_test.copy()\n",
    "submission = submission.drop(['shop_id', 'item_id'], axis=1)\n",
    "avg_id = forecast / len(df_test)\n",
    "submission['item_cnt_month'] = avg_id\n",
    "submission.to_csv('submission.csv', index=False)"
   ]
  },
  {
   "cell_type": "code",
   "execution_count": 26,
   "id": "547ae36e",
   "metadata": {
    "execution": {
     "iopub.execute_input": "2022-06-18T15:13:54.220243Z",
     "iopub.status.busy": "2022-06-18T15:13:54.219779Z",
     "iopub.status.idle": "2022-06-18T15:13:55.378501Z",
     "shell.execute_reply": "2022-06-18T15:13:55.377164Z"
    },
    "papermill": {
     "duration": 1.18228,
     "end_time": "2022-06-18T15:13:55.381077",
     "exception": false,
     "start_time": "2022-06-18T15:13:54.198797",
     "status": "completed"
    },
    "tags": []
   },
   "outputs": [
    {
     "name": "stdout",
     "output_type": "stream",
     "text": [
      "Traceback (most recent call last):\r\n",
      "  File \"/opt/conda/bin/kaggle\", line 5, in <module>\r\n",
      "    from kaggle.cli import main\r\n",
      "  File \"/opt/conda/lib/python3.7/site-packages/kaggle/__init__.py\", line 23, in <module>\r\n",
      "    api.authenticate()\r\n",
      "  File \"/opt/conda/lib/python3.7/site-packages/kaggle/api/kaggle_api_extended.py\", line 166, in authenticate\r\n",
      "    self.config_file, self.config_dir))\r\n",
      "OSError: Could not find kaggle.json. Make sure it's located in /root/.kaggle. Or use the environment method.\r\n"
     ]
    }
   ],
   "source": [
    "!kaggle competitions submit -c competitive-data-science-predict-future-sales -f ./submission.csv -m \"Message\""
   ]
  }
 ],
 "metadata": {
  "kernelspec": {
   "display_name": "Python 3",
   "language": "python",
   "name": "python3"
  },
  "language_info": {
   "codemirror_mode": {
    "name": "ipython",
    "version": 3
   },
   "file_extension": ".py",
   "mimetype": "text/x-python",
   "name": "python",
   "nbconvert_exporter": "python",
   "pygments_lexer": "ipython3",
   "version": "3.7.12"
  },
  "papermill": {
   "default_parameters": {},
   "duration": 38.615573,
   "end_time": "2022-06-18T15:13:56.423753",
   "environment_variables": {},
   "exception": null,
   "input_path": "__notebook__.ipynb",
   "output_path": "__notebook__.ipynb",
   "parameters": {},
   "start_time": "2022-06-18T15:13:17.808180",
   "version": "2.3.4"
  }
 },
 "nbformat": 4,
 "nbformat_minor": 5
}
